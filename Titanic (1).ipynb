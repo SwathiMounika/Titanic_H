Skip to content
SwathiMounika
/
Titanic_H
 
Type / to search
 
Code
Issues
Pull requests
Actions
Projects
Wiki
Security
Insights
Settings
Commit
Add files via upload
 main
@SwathiMounika
SwathiMounika committed 5 minutes ago 
1 parent c8c65fd
commit 0b9e10e
Showing 1 changed file with 1,461 additions and 0 deletions.
  1,461 changes: 1,461 additions & 0 deletions 1,461  
Titanic (1).ipynb
 
@@ -0,0 +1,1461 @@
{
  "cells": [
    {
      "cell_type": "code",
      "execution_count": 336,
      "metadata": {
        "id": "ShD_s_eV-uV-"
      },
      "outputs": [],
      "source": [
        "from scipy.stats import norm\n",
        "from scipy import stats as st\n",
        "from sklearn.model_selection import train_test_split\n",
        "import seaborn\n",
        "from sklearn import metrics\n",
        "import matplotlib.pyplot as plt\n",
        "import numpy as np\n",
        "import pandas as pd\n",
        "import seaborn as sns\n",
        "import statsmodels.api as sm\n",
        "import pylab as py\n",
        "import statistics\n",
        "%matplotlib inline"
      ]
    },
    {
      "cell_type": "code",
      "execution_count": 337,
      "metadata": {
        "colab": {
          "base_uri": "https://localhost:8080/",
          "height": 206
        },
        "id": "7hDaVvoI_EK5",
        "outputId": "7f15eb69-bd8c-43c8-93f4-7cbcb43b86cf"
      },
      "outputs": [
        {
          "data": {
            "text/html": [
              "<div>\n",
              "<style scoped>\n",
              "    .dataframe tbody tr th:only-of-type {\n",
              "        vertical-align: middle;\n",
              "    }\n",
              "\n",
              "    .dataframe tbody tr th {\n",
              "        vertical-align: top;\n",
              "    }\n",
              "\n",
              "    .dataframe thead th {\n",
              "        text-align: right;\n",
              "    }\n",
              "</style>\n",
              "<table border=\"1\" class=\"dataframe\">\n",
              "  <thead>\n",
              "    <tr style=\"text-align: right;\">\n",
              "      <th></th>\n",
              "      <th>sex</th>\n",
              "      <th>age</th>\n",
              "      <th>sibsp</th>\n",
              "      <th>parch</th>\n",
              "      <th>fare</th>\n",
              "      <th>embarked</th>\n",
              "      <th>class</th>\n",
              "      <th>who</th>\n",
              "      <th>alone</th>\n",
              "      <th>survived</th>\n",
              "    </tr>\n",
              "  </thead>\n",
              "  <tbody>\n",
              "    <tr>\n",
              "      <th>0</th>\n",
              "      <td>male</td>\n",
              "      <td>22.0</td>\n",
              "      <td>1</td>\n",
              "      <td>0</td>\n",
              "      <td>7.2500</td>\n",
              "      <td>S</td>\n",
              "      <td>Third</td>\n",
              "      <td>man</td>\n",
              "      <td>False</td>\n",
              "      <td>0</td>\n",
              "    </tr>\n",
              "    <tr>\n",
              "      <th>1</th>\n",
              "      <td>female</td>\n",
              "      <td>38.0</td>\n",
              "      <td>1</td>\n",
              "      <td>0</td>\n",
              "      <td>71.2833</td>\n",
              "      <td>C</td>\n",
              "      <td>First</td>\n",
              "      <td>woman</td>\n",
              "      <td>False</td>\n",
              "      <td>1</td>\n",
              "    </tr>\n",
              "    <tr>\n",
              "      <th>2</th>\n",
              "      <td>female</td>\n",
              "      <td>26.0</td>\n",
              "      <td>0</td>\n",
              "      <td>0</td>\n",
              "      <td>7.9250</td>\n",
              "      <td>S</td>\n",
              "      <td>Third</td>\n",
              "      <td>woman</td>\n",
              "      <td>True</td>\n",
              "      <td>1</td>\n",
              "    </tr>\n",
              "    <tr>\n",
              "      <th>3</th>\n",
              "      <td>female</td>\n",
              "      <td>35.0</td>\n",
              "      <td>1</td>\n",
              "      <td>0</td>\n",
              "      <td>53.1000</td>\n",
              "      <td>S</td>\n",
              "      <td>First</td>\n",
              "      <td>woman</td>\n",
              "      <td>False</td>\n",
              "      <td>1</td>\n",
              "    </tr>\n",
              "    <tr>\n",
              "      <th>4</th>\n",
              "      <td>male</td>\n",
              "      <td>35.0</td>\n",
              "      <td>0</td>\n",
              "      <td>0</td>\n",
              "      <td>8.0500</td>\n",
              "      <td>S</td>\n",
              "      <td>Third</td>\n",
              "      <td>man</td>\n",
              "      <td>True</td>\n",
              "      <td>0</td>\n",
              "    </tr>\n",
              "  </tbody>\n",
              "</table>\n",
              "</div>"
            ],
            "text/plain": [
              "      sex   age  sibsp  parch     fare embarked  class    who  alone  survived\n",
              "0    male  22.0      1      0   7.2500        S  Third    man  False         0\n",
              "1  female  38.0      1      0  71.2833        C  First  woman  False         1\n",
              "2  female  26.0      0      0   7.9250        S  Third  woman   True         1\n",
              "3  female  35.0      1      0  53.1000        S  First  woman  False         1\n",
              "4    male  35.0      0      0   8.0500        S  Third    man   True         0"
            ]
          },
          "execution_count": 337,
          "metadata": {},
          "output_type": "execute_result"
        }
      ],
      "source": [
        "\n",
        "df =pd.read_csv('Titanic.csv')\n",
        "\n",
        "df.head()"
      ]
    },
    {
      "cell_type": "code",
      "execution_count": 338,
      "metadata": {
        "colab": {
          "base_uri": "https://localhost:8080/",
          "height": 300
        },
        "id": "jVR74hAQHgTp",
        "outputId": "ba558916-09b0-4ff1-9320-4f5905bb07c1"
      },
      "outputs": [
        {
          "data": {
            "text/html": [
              "<div>\n",
              "<style scoped>\n",
              "    .dataframe tbody tr th:only-of-type {\n",
              "        vertical-align: middle;\n",
              "    }\n",
              "\n",
              "    .dataframe tbody tr th {\n",
              "        vertical-align: top;\n",
              "    }\n",
              "\n",
              "    .dataframe thead th {\n",
              "        text-align: right;\n",
              "    }\n",
              "</style>\n",
              "<table border=\"1\" class=\"dataframe\">\n",
              "  <thead>\n",
              "    <tr style=\"text-align: right;\">\n",
              "      <th></th>\n",
              "      <th>age</th>\n",
              "      <th>sibsp</th>\n",
              "      <th>parch</th>\n",
              "      <th>fare</th>\n",
              "      <th>survived</th>\n",
              "    </tr>\n",
              "  </thead>\n",
              "  <tbody>\n",
              "    <tr>\n",
              "      <th>count</th>\n",
              "      <td>714.000000</td>\n",
              "      <td>891.000000</td>\n",
              "      <td>891.000000</td>\n",
              "      <td>891.000000</td>\n",
              "      <td>891.000000</td>\n",
              "    </tr>\n",
              "    <tr>\n",
              "      <th>mean</th>\n",
              "      <td>29.699118</td>\n",
              "      <td>0.523008</td>\n",
              "      <td>0.381594</td>\n",
              "      <td>32.204208</td>\n",
              "      <td>0.383838</td>\n",
              "    </tr>\n",
              "    <tr>\n",
              "      <th>std</th>\n",
              "      <td>14.526497</td>\n",
              "      <td>1.102743</td>\n",
              "      <td>0.806057</td>\n",
              "      <td>49.693429</td>\n",
              "      <td>0.486592</td>\n",
              "    </tr>\n",
              "    <tr>\n",
              "      <th>min</th>\n",
              "      <td>0.420000</td>\n",
              "      <td>0.000000</td>\n",
              "      <td>0.000000</td>\n",
              "      <td>0.000000</td>\n",
              "      <td>0.000000</td>\n",
              "    </tr>\n",
              "    <tr>\n",
              "      <th>25%</th>\n",
              "      <td>20.125000</td>\n",
              "      <td>0.000000</td>\n",
              "      <td>0.000000</td>\n",
              "      <td>7.910400</td>\n",
              "      <td>0.000000</td>\n",
              "    </tr>\n",
              "    <tr>\n",
              "      <th>50%</th>\n",
              "      <td>28.000000</td>\n",
              "      <td>0.000000</td>\n",
              "      <td>0.000000</td>\n",
              "      <td>14.454200</td>\n",
              "      <td>0.000000</td>\n",
              "    </tr>\n",
              "    <tr>\n",
              "      <th>75%</th>\n",
              "      <td>38.000000</td>\n",
              "      <td>1.000000</td>\n",
              "      <td>0.000000</td>\n",
              "      <td>31.000000</td>\n",
              "      <td>1.000000</td>\n",
              "    </tr>\n",
              "    <tr>\n",
              "      <th>max</th>\n",
              "      <td>80.000000</td>\n",
              "      <td>8.000000</td>\n",
              "      <td>6.000000</td>\n",
              "      <td>512.329200</td>\n",
              "      <td>1.000000</td>\n",
              "    </tr>\n",
              "  </tbody>\n",
              "</table>\n",
              "</div>"
            ],
            "text/plain": [
              "              age       sibsp       parch        fare    survived\n",
              "count  714.000000  891.000000  891.000000  891.000000  891.000000\n",
              "mean    29.699118    0.523008    0.381594   32.204208    0.383838\n",
              "std     14.526497    1.102743    0.806057   49.693429    0.486592\n",
              "min      0.420000    0.000000    0.000000    0.000000    0.000000\n",
              "25%     20.125000    0.000000    0.000000    7.910400    0.000000\n",
              "50%     28.000000    0.000000    0.000000   14.454200    0.000000\n",
              "75%     38.000000    1.000000    0.000000   31.000000    1.000000\n",
              "max     80.000000    8.000000    6.000000  512.329200    1.000000"
            ]
          },
          "execution_count": 338,
          "metadata": {},
          "output_type": "execute_result"
        }
      ],
      "source": [
        "df.describe()"
      ]
    },
    {
      "cell_type": "code",
      "execution_count": 339,
      "metadata": {
        "colab": {
          "base_uri": "https://localhost:8080/"
        },
        "id": "_qgSi3Cg_Vcb",
        "outputId": "e4adfe44-f672-4915-b50c-82fb3ae927c0"
      },
      "outputs": [
        {
          "data": {
            "text/plain": [
              "sex           0\n",
              "age         177\n",
              "sibsp         0\n",
              "parch         0\n",
              "fare          0\n",
              "embarked      2\n",
              "class         0\n",
              "who           0\n",
              "alone         0\n",
              "survived      0\n",
              "dtype: int64"
            ]
          },
          "execution_count": 339,
          "metadata": {},
          "output_type": "execute_result"
        }
      ],
      "source": [
        "df.isnull().sum()"
      ]
    },
    {
      "cell_type": "code",
      "execution_count": 340,
      "metadata": {
        "colab": {
          "base_uri": "https://localhost:8080/"
        },
        "id": "JrAoTj4JuEuW",
        "outputId": "8c08dcf4-9bfe-4527-c5d1-10b73189e2c4"
      },
      "outputs": [
        {
          "data": {
            "text/plain": [
              "(891, 10)"
            ]
          },
          "execution_count": 340,
          "metadata": {},
          "output_type": "execute_result"
        }
      ],
      "source": [
        "df.shape"
      ]
    },
    {
      "cell_type": "code",
      "execution_count": 341,
      "metadata": {
        "id": "QzZMFxwTveLr"
      },
      "outputs": [],
      "source": [
        "df['age']=df['age'].fillna(value=df['age'].mean())"
      ]
    },
    {
      "cell_type": "code",
      "execution_count": 342,
      "metadata": {
        "colab": {
          "base_uri": "https://localhost:8080/",
          "height": 206
        },
        "id": "YKCbah18veN9",
        "outputId": "22f90000-fc7c-4903-83b0-d5f78a71e93c"
      },
      "outputs": [
        {
          "data": {
            "text/html": [
              "<div>\n",
              "<style scoped>\n",
              "    .dataframe tbody tr th:only-of-type {\n",
              "        vertical-align: middle;\n",
              "    }\n",
              "\n",
              "    .dataframe tbody tr th {\n",
              "        vertical-align: top;\n",
              "    }\n",
              "\n",
              "    .dataframe thead th {\n",
              "        text-align: right;\n",
              "    }\n",
              "</style>\n",
              "<table border=\"1\" class=\"dataframe\">\n",
              "  <thead>\n",
              "    <tr style=\"text-align: right;\">\n",
              "      <th></th>\n",
              "      <th>sex</th>\n",
              "      <th>age</th>\n",
              "      <th>fare</th>\n",
              "      <th>class</th>\n",
              "      <th>who</th>\n",
              "      <th>survived</th>\n",
              "    </tr>\n",
              "  </thead>\n",
              "  <tbody>\n",
              "    <tr>\n",
              "      <th>0</th>\n",
              "      <td>male</td>\n",
              "      <td>22.0</td>\n",
              "      <td>7.2500</td>\n",
              "      <td>Third</td>\n",
              "      <td>man</td>\n",
              "      <td>0</td>\n",
              "    </tr>\n",
              "    <tr>\n",
              "      <th>1</th>\n",
              "      <td>female</td>\n",
              "      <td>38.0</td>\n",
              "      <td>71.2833</td>\n",
              "      <td>First</td>\n",
              "      <td>woman</td>\n",
              "      <td>1</td>\n",
              "    </tr>\n",
              "    <tr>\n",
              "      <th>2</th>\n",
              "      <td>female</td>\n",
              "      <td>26.0</td>\n",
              "      <td>7.9250</td>\n",
              "      <td>Third</td>\n",
              "      <td>woman</td>\n",
              "      <td>1</td>\n",
              "    </tr>\n",
              "    <tr>\n",
              "      <th>3</th>\n",
              "      <td>female</td>\n",
              "      <td>35.0</td>\n",
              "      <td>53.1000</td>\n",
              "      <td>First</td>\n",
              "      <td>woman</td>\n",
              "      <td>1</td>\n",
              "    </tr>\n",
              "    <tr>\n",
              "      <th>4</th>\n",
              "      <td>male</td>\n",
              "      <td>35.0</td>\n",
              "      <td>8.0500</td>\n",
              "      <td>Third</td>\n",
              "      <td>man</td>\n",
              "      <td>0</td>\n",
              "    </tr>\n",
              "  </tbody>\n",
              "</table>\n",
              "</div>"
            ],
            "text/plain": [
              "      sex   age     fare  class    who  survived\n",
              "0    male  22.0   7.2500  Third    man         0\n",
              "1  female  38.0  71.2833  First  woman         1\n",
              "2  female  26.0   7.9250  Third  woman         1\n",
              "3  female  35.0  53.1000  First  woman         1\n",
              "4    male  35.0   8.0500  Third    man         0"
            ]
          },
          "execution_count": 342,
          "metadata": {},
          "output_type": "execute_result"
        }
      ],
      "source": [
        "df.drop(['sibsp','parch','embarked','alone'], axis='columns', inplace=True )\n",
        "df.head()"
      ]
    },
    {
      "cell_type": "code",
      "execution_count": 343,
      "metadata": {},
      "outputs": [],
      "source": [
        "target = df.survived\n",
        "inputs = df.loc[:, df.columns != 'survived']"
      ]
    },
    {
      "cell_type": "code",
      "execution_count": 344,
      "metadata": {},
      "outputs": [
        {
          "data": {
            "text/html": [
              "<div>\n",
              "<style scoped>\n",
              "    .dataframe tbody tr th:only-of-type {\n",
              "        vertical-align: middle;\n",
              "    }\n",
              "\n",
              "    .dataframe tbody tr th {\n",
              "        vertical-align: top;\n",
              "    }\n",
              "\n",
              "    .dataframe thead th {\n",
              "        text-align: right;\n",
              "    }\n",
              "</style>\n",
              "<table border=\"1\" class=\"dataframe\">\n",
              "  <thead>\n",
              "    <tr style=\"text-align: right;\">\n",
              "      <th></th>\n",
              "      <th>sex</th>\n",
              "      <th>age</th>\n",
              "      <th>fare</th>\n",
              "      <th>class</th>\n",
              "      <th>who</th>\n",
              "      <th>survived</th>\n",
              "    </tr>\n",
              "  </thead>\n",
              "  <tbody>\n",
              "    <tr>\n",
              "      <th>0</th>\n",
              "      <td>1</td>\n",
              "      <td>22.0</td>\n",
              "      <td>7.2500</td>\n",
              "      <td>3</td>\n",
              "      <td>1</td>\n",
              "      <td>0</td>\n",
              "    </tr>\n",
              "    <tr>\n",
              "      <th>1</th>\n",
              "      <td>0</td>\n",
              "      <td>38.0</td>\n",
              "      <td>71.2833</td>\n",
              "      <td>1</td>\n",
              "      <td>0</td>\n",
              "      <td>1</td>\n",
              "    </tr>\n",
              "    <tr>\n",
              "      <th>2</th>\n",
              "      <td>0</td>\n",
              "      <td>26.0</td>\n",
              "      <td>7.9250</td>\n",
              "      <td>3</td>\n",
              "      <td>0</td>\n",
              "      <td>1</td>\n",
              "    </tr>\n",
              "    <tr>\n",
              "      <th>3</th>\n",
              "      <td>0</td>\n",
              "      <td>35.0</td>\n",
              "      <td>53.1000</td>\n",
              "      <td>1</td>\n",
              "      <td>0</td>\n",
              "      <td>1</td>\n",
              "    </tr>\n",
              "    <tr>\n",
              "      <th>4</th>\n",
              "      <td>1</td>\n",
              "      <td>35.0</td>\n",
              "      <td>8.0500</td>\n",
              "      <td>3</td>\n",
              "      <td>1</td>\n",
              "      <td>0</td>\n",
              "    </tr>\n",
              "  </tbody>\n",
              "</table>\n",
              "</div>"
            ],
            "text/plain": [
              "   sex   age     fare  class  who  survived\n",
              "0    1  22.0   7.2500      3    1         0\n",
              "1    0  38.0  71.2833      1    0         1\n",
              "2    0  26.0   7.9250      3    0         1\n",
              "3    0  35.0  53.1000      1    0         1\n",
              "4    1  35.0   8.0500      3    1         0"
            ]
          },
          "execution_count": 344,
          "metadata": {},
          "output_type": "execute_result"
        }
      ],
      "source": [
        "df.replace({'sex': {'female': 0,'male': 1}, 'who':{'man':1,'woman':0, 'child':2},'class': {'First': 1, 'Second': 2,'Third': 3},'alone': {'True':1, 'False':0}}, inplace=True)\n",
        "df.head()"
      ]
    },
    {
      "cell_type": "code",
      "execution_count": 345,
      "metadata": {},
      "outputs": [],
      "source": [
        "target = df.survived\n",
        "inputs = df.loc[:, df.columns != 'survived']"
      ]
    },
    {
      "cell_type": "code",
      "execution_count": 346,
      "metadata": {
        "id": "krO-0HnKveSf"
      },
      "outputs": [],
      "source": [
        "from sklearn.model_selection import train_test_split\n",
        "X_train, X_test, Y_train, Y_test = train_test_split(inputs,target,test_size=0.2) "
      ]
    },
    {
      "cell_type": "markdown",
      "metadata": {
        "id": "oW7Qn40f_BeQ"
      },
      "source": [
        "# Gaussian Naive Bayes "
      ]
    },
    {
      "cell_type": "code",
      "execution_count": 347,
      "metadata": {
        "id": "JTEYjgReveUj"
      },
      "outputs": [],
      "source": [
        "from sklearn.naive_bayes import GaussianNB\n",
        "model = GaussianNB()"
      ]
    },
    {
      "cell_type": "code",
      "execution_count": 348,
      "metadata": {
        "colab": {
          "base_uri": "https://localhost:8080/"
        },
        "id": "taoFeUBGveW8",
        "outputId": "4c12ba14-f58e-4de4-e80a-0821feebbc3f"
      },
      "outputs": [
        {
          "data": {
            "text/plain": [
              "GaussianNB()"
            ]
          },
          "execution_count": 348,
          "metadata": {},
          "output_type": "execute_result"
        }
      ],
      "source": [
        "model.fit(X_train, Y_train)"
      ]
    },
    {
      "cell_type": "code",
      "execution_count": 349,
      "metadata": {
        "colab": {
          "base_uri": "https://localhost:8080/"
        },
        "id": "7Cr2PLEHveZb",
        "outputId": "4f681959-8d5b-46dc-e9b6-2d4085a3102b"
      },
      "outputs": [
        {
          "data": {
            "text/plain": [
              "0.776536312849162"
            ]
          },
          "execution_count": 349,
          "metadata": {},
          "output_type": "execute_result"
        }
      ],
      "source": [
        "#model accuracy\n",
        "model.score(X_test, Y_test)"
      ]
    },
    {
      "cell_type": "code",
      "execution_count": 350,
      "metadata": {
        "id": "tDii1idVx1MP"
      },
      "outputs": [],
      "source": [
        "Y_pred=model.predict(X_test)"
      ]
    },
    {
      "cell_type": "code",
      "execution_count": 351,
      "metadata": {
        "colab": {
          "base_uri": "https://localhost:8080/"
        },
        "id": "uYvFPInMJ8IV",
        "outputId": "6cd434da-14bf-42a0-9eaf-57ae81990235"
      },
      "outputs": [
        {
          "name": "stdout",
          "output_type": "stream",
          "text": [
            "[0 0 0 1 0 0 1 1 1 0 0 1 0 0 0 1 0 0 0 0 1 0 0 0 0 0 1 0 0 1 1 0 0 0 1 1 1\n",
            " 0 1 0 0 0 0 0 0 1 1 0 0 0 0 0 0 0 0 0 1 0 0 1 1 0 0 0 0 1 1 0 0 1 0 0 0 0\n",
            " 0 0 0 1 0 1 0 1 0 0 1 0 1 0 0 1 1 0 0 1 1 0 0 1 0 1 0 0 1 1 1 0 0 1 1 1 0\n",
            " 0 0 1 0 0 0 0 0 0 0 0 0 0 0 0 0 0 0 1 0 0 0 0 1 0 0 0 0 0 1 1 0 0 0 1 0 1\n",
            " 1 1 0 0 1 0 0 0 0 1 0 1 0 1 0 1 0 1 1 1 0 0 1 0 0 0 0 1 1 1 1]\n"
          ]
        }
      ],
      "source": [
        "print(Y_pred)"
      ]
    },
    {
      "cell_type": "code",
      "execution_count": 352,
      "metadata": {},
      "outputs": [],
      "source": [
        "from sklearn.metrics import confusion_matrix\n",
        "cm=confusion_matrix(Y_test,Y_pred)"
      ]
    },
    {
      "cell_type": "code",
      "execution_count": 353,
      "metadata": {},
      "outputs": [
        {
          "data": {
            "image/png": "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",
            "text/plain": [
              "<Figure size 432x288 with 2 Axes>"
            ]
          },
          "metadata": {
            "needs_background": "light"
          },
          "output_type": "display_data"
        }
      ],
      "source": [
        "##Confusion matrix\n",
        "import seaborn as sns\n",
        "\n",
        "ax = sns.heatmap(cm, annot=True, cmap='Blues')\n",
        "\n",
        "ax.set_title('Seaborn Confusion Matrix with labels\\n\\n');\n",
        "ax.set_xlabel('\\nPredicted Values')\n",
        "ax.set_ylabel('Actual Values ');\n",
        "\n",
        "## Ticket labels - List must be in alphabetical order\n",
        "ax.xaxis.set_ticklabels(['False','True'])\n",
        "ax.yaxis.set_ticklabels(['False','True'])\n",
        "\n",
        "## Display the visualization of the Confusion Matrix.\n",
        "plt.show()"
      ]
    },
    {
      "cell_type": "code",
      "execution_count": 354,
      "metadata": {},
      "outputs": [
        {
          "name": "stdout",
          "output_type": "stream",
          "text": [
            "0.7014925373134328\n"
          ]
        }
      ],
      "source": [
        "##F1 score\n",
        "Precision = (metrics.precision_score(Y_test, Y_pred))\n",
        "Recall = (metrics.recall_score(Y_test, Y_pred))\n",
        "F1 = 2 * (Precision * Recall) / (Precision + Recall)\n",
        "print (F1)"
      ]
    },
    {
      "cell_type": "code",
      "execution_count": 355,
      "metadata": {
        "colab": {
          "base_uri": "https://localhost:8080/"
        },
        "id": "KAkLmK7zved1",
        "outputId": "ae26fd26-230b-4d5d-b4b7-1afaee652bc7"
      },
      "outputs": [
        {
          "data": {
            "text/plain": [
              "array([[9.61197199e-01, 3.88028009e-02],\n",
              "       [9.85394221e-01, 1.46057787e-02],\n",
              "       [9.57052671e-01, 4.29473290e-02],\n",
              "       [2.26320976e-01, 7.73679024e-01],\n",
              "       [9.68283944e-01, 3.17160561e-02],\n",
              "       [8.15707800e-01, 1.84292200e-01],\n",
              "       [2.00460765e-01, 7.99539235e-01],\n",
              "       [1.97658571e-01, 8.02341429e-01],\n",
              "       [1.94248293e-01, 8.05751707e-01],\n",
              "       [9.10959130e-01, 8.90408702e-02],\n",
              "       [8.93747232e-01, 1.06252768e-01],\n",
              "       [9.95743783e-02, 9.00425622e-01],\n",
              "       [9.85464829e-01, 1.45351708e-02],\n",
              "       [9.79141303e-01, 2.08586972e-02],\n",
              "       [8.05423122e-01, 1.94576878e-01],\n",
              "       [9.68248574e-14, 1.00000000e+00],\n",
              "       [9.83498194e-01, 1.65018063e-02],\n",
              "       [9.84805567e-01, 1.51944326e-02],\n",
              "       [9.85772798e-01, 1.42272021e-02],\n",
              "       [8.81776033e-01, 1.18223967e-01],\n",
              "       [1.00645594e-01, 8.99354406e-01],\n",
              "       [9.85965061e-01, 1.40349387e-02],\n",
              "       [9.84566831e-01, 1.54331693e-02],\n",
              "       [9.86598823e-01, 1.34011766e-02],\n",
              "       [8.92976361e-01, 1.07023639e-01],\n",
              "       [8.90533316e-01, 1.09466684e-01],\n",
              "       [1.87442161e-01, 8.12557839e-01],\n",
              "       [9.82988306e-01, 1.70116943e-02],\n",
              "       [9.85998138e-01, 1.40018618e-02],\n",
              "       [2.20670135e-09, 9.99999998e-01],\n",
              "       [3.93997647e-03, 9.96060024e-01],\n",
              "       [9.83720500e-01, 1.62795004e-02],\n",
              "       [9.81850678e-01, 1.81493223e-02],\n",
              "       [9.82794154e-01, 1.72058456e-02],\n",
              "       [1.43632855e-01, 8.56367145e-01],\n",
              "       [9.90608157e-02, 9.00939184e-01],\n",
              "       [1.74698988e-01, 8.25301012e-01],\n",
              "       [9.85480514e-01, 1.45194860e-02],\n",
              "       [1.92535144e-06, 9.99998075e-01],\n",
              "       [9.83516525e-01, 1.64834748e-02],\n",
              "       [9.55693256e-01, 4.43067444e-02],\n",
              "       [9.66851938e-01, 3.31480617e-02],\n",
              "       [9.70231581e-01, 2.97684185e-02],\n",
              "       [9.81812908e-01, 1.81870921e-02],\n",
              "       [9.85964119e-01, 1.40358814e-02],\n",
              "       [1.64386568e-01, 8.35613432e-01],\n",
              "       [4.32157533e-06, 9.99995678e-01],\n",
              "       [9.85135782e-01, 1.48642179e-02],\n",
              "       [9.65824367e-01, 3.41756332e-02],\n",
              "       [9.85640817e-01, 1.43591834e-02],\n",
              "       [9.86239054e-01, 1.37609458e-02],\n",
              "       [9.64906824e-01, 3.50931759e-02],\n",
              "       [8.03790132e-01, 1.96209868e-01],\n",
              "       [9.84560660e-01, 1.54393397e-02],\n",
              "       [9.85358602e-01, 1.46413979e-02],\n",
              "       [9.84820835e-01, 1.51791653e-02],\n",
              "       [1.97219608e-01, 8.02780392e-01],\n",
              "       [9.68718482e-01, 3.12815185e-02],\n",
              "       [9.85500194e-01, 1.44998062e-02],\n",
              "       [8.80458330e-02, 9.11954167e-01],\n",
              "       [1.65563230e-01, 8.34436770e-01],\n",
              "       [9.81938894e-01, 1.80611057e-02],\n",
              "       [9.85611563e-01, 1.43884369e-02],\n",
              "       [8.90490640e-01, 1.09509360e-01],\n",
              "       [9.68666973e-01, 3.13330271e-02],\n",
              "       [1.03953124e-01, 8.96046876e-01],\n",
              "       [1.94671318e-01, 8.05328682e-01],\n",
              "       [9.65954345e-01, 3.40456555e-02],\n",
              "       [9.85550463e-01, 1.44495367e-02],\n",
              "       [4.14966941e-16, 1.00000000e+00],\n",
              "       [9.85461554e-01, 1.45384462e-02],\n",
              "       [9.69232763e-01, 3.07672368e-02],\n",
              "       [9.85391010e-01, 1.46089896e-02],\n",
              "       [9.83964357e-01, 1.60356431e-02],\n",
              "       [9.85461554e-01, 1.45384462e-02],\n",
              "       [9.83838758e-01, 1.61612424e-02],\n",
              "       [9.51551380e-01, 4.84486195e-02],\n",
              "       [2.27160018e-04, 9.99772840e-01],\n",
              "       [8.71341961e-01, 1.28658039e-01],\n",
              "       [3.01894764e-01, 6.98105236e-01],\n",
              "       [9.86054760e-01, 1.39452404e-02],\n",
              "       [1.04724391e-01, 8.95275609e-01],\n",
              "       [9.63731853e-01, 3.62681473e-02],\n",
              "       [9.85391010e-01, 1.46089896e-02],\n",
              "       [1.02726920e-01, 8.97273080e-01],\n",
              "       [9.85500194e-01, 1.44998062e-02],\n",
              "       [1.05799064e-01, 8.94200936e-01],\n",
              "       [9.83720500e-01, 1.62795004e-02],\n",
              "       [8.73969575e-01, 1.26030425e-01],\n",
              "       [1.07924701e-13, 1.00000000e+00],\n",
              "       [1.01086861e-01, 8.98913139e-01],\n",
              "       [9.30764703e-01, 6.92352974e-02],\n",
              "       [9.85660025e-01, 1.43399745e-02],\n",
              "       [3.83300776e-03, 9.96166992e-01],\n",
              "       [1.80445548e-01, 8.19554452e-01],\n",
              "       [9.85776479e-01, 1.42235206e-02],\n",
              "       [8.93265090e-01, 1.06734910e-01],\n",
              "       [2.80789574e-02, 9.71921043e-01],\n",
              "       [9.83129492e-01, 1.68705084e-02],\n",
              "       [2.99271981e-04, 9.99700728e-01],\n",
              "       [9.86012913e-01, 1.39870872e-02],\n",
              "       [8.70912108e-01, 1.29087892e-01],\n",
              "       [1.65921449e-01, 8.34078551e-01],\n",
              "       [2.83501402e-02, 9.71649860e-01],\n",
              "       [1.27561457e-02, 9.87243854e-01],\n",
              "       [9.86083626e-01, 1.39163739e-02],\n",
              "       [9.51707725e-01, 4.82922748e-02],\n",
              "       [1.94689284e-01, 8.05310716e-01],\n",
              "       [3.01354172e-07, 9.99999699e-01],\n",
              "       [1.97716583e-01, 8.02283417e-01],\n",
              "       [9.83080973e-01, 1.69190272e-02],\n",
              "       [8.64391429e-01, 1.35608571e-01],\n",
              "       [9.86032950e-01, 1.39670504e-02],\n",
              "       [1.26119451e-02, 9.87388055e-01],\n",
              "       [9.47832677e-01, 5.21673228e-02],\n",
              "       [9.85480514e-01, 1.45194860e-02],\n",
              "       [8.58192157e-01, 1.41807843e-01],\n",
              "       [9.86047595e-01, 1.39524052e-02],\n",
              "       [9.37611235e-01, 6.23887647e-02],\n",
              "       [9.83816860e-01, 1.61831402e-02],\n",
              "       [9.83761824e-01, 1.62381759e-02],\n",
              "       [8.88697867e-01, 1.11302133e-01],\n",
              "       [9.69163749e-01, 3.08362506e-02],\n",
              "       [9.69478491e-01, 3.05215090e-02],\n",
              "       [9.83534572e-01, 1.64654285e-02],\n",
              "       [9.85211891e-01, 1.47881088e-02],\n",
              "       [9.83051743e-01, 1.69482570e-02],\n",
              "       [8.76978671e-01, 1.23021329e-01],\n",
              "       [8.94531325e-01, 1.05468675e-01],\n",
              "       [1.31480845e-01, 8.68519155e-01],\n",
              "       [9.86192908e-01, 1.38070920e-02],\n",
              "       [9.84093328e-01, 1.59066724e-02],\n",
              "       [9.86038460e-01, 1.39615396e-02],\n",
              "       [9.69324484e-01, 3.06755158e-02],\n",
              "       [2.91170200e-03, 9.97088298e-01],\n",
              "       [9.85010748e-01, 1.49892524e-02],\n",
              "       [8.68103344e-01, 1.31896656e-01],\n",
              "       [9.84381438e-01, 1.56185623e-02],\n",
              "       [9.82217520e-01, 1.77824799e-02],\n",
              "       [5.03948141e-01, 4.96051859e-01],\n",
              "       [8.18937201e-02, 9.18106280e-01],\n",
              "       [1.71376635e-01, 8.28623365e-01],\n",
              "       [9.83439880e-01, 1.65601199e-02],\n",
              "       [9.70536813e-01, 2.94631874e-02],\n",
              "       [9.62949238e-01, 3.70507619e-02],\n",
              "       [2.96826256e-04, 9.99703174e-01],\n",
              "       [9.85458268e-01, 1.45417318e-02],\n",
              "       [4.69918001e-16, 1.00000000e+00],\n",
              "       [2.78991674e-04, 9.99721008e-01],\n",
              "       [3.18314635e-01, 6.81685365e-01],\n",
              "       [9.85553626e-01, 1.44463744e-02],\n",
              "       [9.84894684e-01, 1.51053165e-02],\n",
              "       [1.54308923e-02, 9.84569108e-01],\n",
              "       [9.85666766e-01, 1.43332343e-02],\n",
              "       [9.62618219e-01, 3.73817815e-02],\n",
              "       [9.85434415e-01, 1.45655855e-02],\n",
              "       [8.18606556e-01, 1.81393444e-01],\n",
              "       [9.64603108e-02, 9.03539689e-01],\n",
              "       [9.85461554e-01, 1.45384462e-02],\n",
              "       [1.88150751e-01, 8.11849249e-01],\n",
              "       [9.66143070e-01, 3.38569305e-02],\n",
              "       [3.23821905e-01, 6.76178095e-01],\n",
              "       [9.85461554e-01, 1.45384462e-02],\n",
              "       [2.00508553e-01, 7.99491447e-01],\n",
              "       [9.85263633e-01, 1.47363667e-02],\n",
              "       [3.67119295e-03, 9.96328807e-01],\n",
              "       [9.79721948e-02, 9.02027805e-01],\n",
              "       [1.89622575e-01, 8.10377425e-01],\n",
              "       [9.67210020e-01, 3.27899798e-02],\n",
              "       [8.65594636e-01, 1.34405364e-01],\n",
              "       [2.15944081e-05, 9.99978406e-01],\n",
              "       [9.64906824e-01, 3.50931759e-02],\n",
              "       [8.42730475e-01, 1.57269525e-01],\n",
              "       [9.85480514e-01, 1.45194860e-02],\n",
              "       [9.85935831e-01, 1.40641686e-02],\n",
              "       [1.94248293e-01, 8.05751707e-01],\n",
              "       [1.93480634e-01, 8.06519366e-01],\n",
              "       [3.51264743e-01, 6.48735257e-01],\n",
              "       [7.43393142e-02, 9.25660686e-01]])"
            ]
          },
          "execution_count": 355,
          "metadata": {},
          "output_type": "execute_result"
        }
      ],
      "source": [
        "##survival probablity \n",
        "model.predict_proba(X_test)"
      ]
    },
    {
      "cell_type": "markdown",
      "metadata": {
        "id": "y6ZZonru_KCb"
      },
      "source": [
        "# QDA"
      ]
    },
    {
      "cell_type": "code",
      "execution_count": 356,
      "metadata": {
        "id": "iyowa65k_ow1"
      },
      "outputs": [],
      "source": [
        "from sklearn.discriminant_analysis import QuadraticDiscriminantAnalysis\n",
        "modelqda = QuadraticDiscriminantAnalysis()"
      ]
    },
    {
      "cell_type": "code",
      "execution_count": 357,
      "metadata": {
        "colab": {
          "base_uri": "https://localhost:8080/"
        },
        "id": "DvIVCK1q_qao",
        "outputId": "cbf02b05-164e-45f8-a986-f4de241b769c"
      },
      "outputs": [
        {
          "data": {
            "text/plain": [
              "QuadraticDiscriminantAnalysis()"
            ]
          },
          "execution_count": 357,
          "metadata": {},
          "output_type": "execute_result"
        }
      ],
      "source": [
        "modelqda.fit(X_train, Y_train)"
      ]
    },
    {
      "cell_type": "code",
      "execution_count": 358,
      "metadata": {},
      "outputs": [
        {
          "data": {
            "text/plain": [
              "0.7821229050279329"
            ]
          },
          "execution_count": 358,
          "metadata": {},
          "output_type": "execute_result"
        }
      ],
      "source": [
        "modelqda.score(X_test,Y_test)"
      ]
    },
    {
      "cell_type": "code",
      "execution_count": 359,
      "metadata": {
        "id": "zSKQfhle_uNR"
      },
      "outputs": [],
      "source": [
        "Y_predqda =  modelqda.predict(X_test)"
      ]
    },
    {
      "cell_type": "code",
      "execution_count": 360,
      "metadata": {
        "colab": {
          "base_uri": "https://localhost:8080/"
        },
        "id": "RNB64cfJ_0Ky",
        "outputId": "716c8245-8a41-46b0-92b1-1bcabaf0fa04"
      },
      "outputs": [
        {
          "name": "stdout",
          "output_type": "stream",
          "text": [
            "[0 0 0 1 0 0 0 0 0 0 0 1 0 0 0 1 0 0 0 0 1 0 0 0 0 0 0 0 0 1 1 0 0 0 1 1 1\n",
            " 0 1 0 0 0 0 0 0 1 1 0 0 0 0 0 0 0 0 0 0 0 0 1 1 0 0 0 0 1 0 0 0 1 0 0 0 0\n",
            " 0 0 0 1 0 1 0 1 0 0 1 0 1 0 0 1 1 0 0 1 0 0 0 1 0 1 0 0 1 1 1 0 0 0 1 0 0\n",
            " 0 0 1 0 0 1 0 0 0 0 0 0 0 0 0 0 0 0 1 0 0 0 0 1 0 1 0 0 0 1 0 0 0 0 1 0 1\n",
            " 1 1 0 0 1 0 0 0 0 1 0 0 0 1 0 0 0 1 1 0 0 0 1 0 0 0 0 0 0 1 1]\n"
          ]
        }
      ],
      "source": [
        "print(Y_predqda)"
      ]
    },
    {
      "cell_type": "code",
      "execution_count": 361,
      "metadata": {},
      "outputs": [],
      "source": [
        "from sklearn.metrics import confusion_matrix\n",
        "cm=confusion_matrix(Y_test,Y_predqda)"
      ]
    },
    {
      "cell_type": "code",
      "execution_count": 362,
      "metadata": {},
      "outputs": [
        {
          "data": {
            "image/png": "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",
            "text/plain": [
              "<Figure size 432x288 with 2 Axes>"
            ]
          },
          "metadata": {
            "needs_background": "light"
          },
          "output_type": "display_data"
        }
      ],
      "source": [
        "##Confusion matrix\n",
        "import seaborn as sns\n",
        "\n",
        "ax = sns.heatmap(cm, annot=True, cmap='Blues')\n",
        "\n",
        "ax.set_title('Seaborn Confusion Matrix with labels\\n\\n');\n",
        "ax.set_xlabel('\\nPredicted Values')\n",
        "ax.set_ylabel('Actual Values ');\n",
        "\n",
        "## Ticket labels - List must be in alphabetical order\n",
        "ax.xaxis.set_ticklabels(['False','True'])\n",
        "ax.yaxis.set_ticklabels(['False','True'])\n",
        "\n",
        "## Display the visualization of the Confusion Matrix.\n",
        "plt.show()"
      ]
    },
    {
      "cell_type": "code",
      "execution_count": 363,
      "metadata": {},
      "outputs": [
        {
          "name": "stdout",
          "output_type": "stream",
          "text": [
            "0.7014925373134328\n"
          ]
        }
      ],
      "source": [
        "##F1 score\n",
        "Precision = (metrics.precision_score(Y_test, Y_pred))\n",
        "Recall = (metrics.recall_score(Y_test, Y_pred))\n",
        "F1 = 2 * (Precision * Recall) / (Precision + Recall)\n",
        "print (F1)"
      ]
    },
    {
      "cell_type": "markdown",
      "metadata": {
        "id": "LRV5OKlJxJRk"
      },
      "source": [
        "# Hypothesis"
      ]
    },
    {
      "cell_type": "code",
      "execution_count": 364,
      "metadata": {
        "colab": {
          "base_uri": "https://localhost:8080/",
          "height": 281
        },
        "id": "TpmF3k9DzGNp",
        "outputId": "1e8f95d0-f6ef-48ae-e27b-b344369e1adb"
      },
      "outputs": [
        {
          "data": {
            "image/png": "iVBORw0KGgoAAAANSUhEUgAAAYIAAAEICAYAAABS0fM3AAAAOXRFWHRTb2Z0d2FyZQBNYXRwbG90bGliIHZlcnNpb24zLjQuMywgaHR0cHM6Ly9tYXRwbG90bGliLm9yZy/MnkTPAAAACXBIWXMAAAsTAAALEwEAmpwYAAAePElEQVR4nO3debgcVb3u8e9rYgRkNkEkBIIQRUThQgS8B4+gKJPnwQE1iAMqRrwil+MEehVxOop6PDJpDBxARYygglGiOCIXGUyiiAYEQ0ATwhDmAAESeM8ftQJN0713751dO8mu9/M8+9k1rFr1q+rq+vVaVV0t20RERHM9bXUHEBERq1cSQUREwyURREQ0XBJBRETDJRFERDRcEkFERMMlEawiST+T9I4hqOdiSYcPRUxDTdK/SPq7pPslvXZ1xzNYg93HkrYq2z5qiOI4XtLZQ1TXupJ+IuleSedJOlTSL4ai7rpJOkvS54aqfHmNnlvX+luWu0nSPgNdbk2WRLCKbO9v+1t1rqOcOJaXA/0eSZdJeukAlrek7VYhhM8Ap9he3/YFq1DPWsn2P8u2PzrQZSXtJWlRHXEVBwPPBp5l+422v2v71YOpaLAnxjpIOkzSpQNZprxGC+qKaSRLIuiDpNGrO4YW37e9PjAW+C1w3jCue2tg3mAWXMP24Ui0NXC97RX9FWzyazFUrbmRasQmAknHSLpZ0lJJ10l6ZZn+pE897Z/YSrPvGElXAw9I+oSkH7TVfaKkk8rwxZIOl/SM8ml9x5Zy4yQtk7SZpE0k/VTSEkl3l+EtB7pd5Q3/XWC8pHFlPbtJurys/xZJp0gaU+ZdUhb9c2lRvLlMf42kq1paGC/ush9vAJ4L/KQs/wxJW0iaKekuSfMlvael/PGSfiDpbEn3AYd1qPMsSdMk/bK8Pr+TtHXL/O3LvLvKa/emlnkbSfp22Y//KK/P08q8wyT9XtLJpavkbytf9y7b9i5J15bX46LWGNrKTSytqtFl/GJJny3rWirpF5LGdljumcDPgC3Kvrtf0hZl9piyHUslzZM0uWW5LST9sGzjjZKO6hLXp4HjgDeXut/d/km6xP1+SX8H/q7Kf0m6veyjqyXtKGkqcCjw0VLXT7qs80RJCyXdJ2mupJe1zDte0rl9bNf/kvTHMu/7wDpd1vECYBrw0hLLPS2zN5F0YanjSknbtm3rdmX4LEnfkDRL0gPA3r2uv6W+95TjY6mkayTt0qFMX++9jvu6zDug1LlU1Xnqwy11dn1vqst5bZXZHnF/wPOBhcAWZXwisG0ZPgv4XEvZvYBFLeM3AVcBE4B1qT5xPQhsWOaPAm4B9ijjFwOHl+EzgM+31PV+4Odl+FnAG4D1gA2oPtFf0FL28Xo6bM/xwNlleAzwReAOYHSZtiuwBzC6bOu1wNEtyxvYrmV8F+B2YPeyPe8o2/2MLuu/CdinZfx3wNep3kg7A0uAV7bEuhx4LdUHjXU71HcWsBT4V+AZwInApWXeM8tr986yPbuUbX1hmf9t4MdlH04ErgfeXeYdBqwA/h14OvBm4F5g0w6v1WuB+cALyno+AVzWZfsnln04uqWeG4DnUR0jFwNf7LLsXrQcXy376CHggLL/vwBcUeY9DZhLdYIfQ5WEFwD79ndstOyDS9te+18Cm5ZY9y31bwyobP9zOr03uqzvrVTH8mjgQ8CtwDo9bNcY4B8tr83BVMdJx/W1b0dLfHcBu5X1fxeY0ek4L2XvBf6l7NMNB7j+NwI3Ay8p+2k7YOv29wN9vPf62de3AC8rw5sAu/T33qSP89qq/o3UFsGjVDtuB0lPt32T7RsGsPxJthfaXmb7H8AfqU4cAK8AHrR9RYflzgEOaRl/S5mG7Ttt/9D2g7aXAp8HXj6AmN5UPhktA94DHOzSHWB7ru0rbK+wfRPwzX7qfg/wTdtX2n7U1TWOh6kO6D5JmgDsCRxj+yHbVwGnA29rKXa57QtsP2Z7WZeqLrR9ie2Hgf9H9elvAvAa4CbbZ5bt+SPwQ+BgVc37NwMfs720bOt/tq37duBrtpfb/j5wHXBgh/W/F/iC7WvLfvwPYOdurYIOzrR9fdm+c6kS4kBcanuWq+sO3wF2KtNfAoyz/Rnbj7jq8z4NmDLA+lt9wfZdJdblVEl0e0Bl+2/ptSLbZ5djeYXt/+SJE1R/27UH1Ql45WvzA2D2ILblR7b/4Cdaxjv3UfbHtn9v+7FSbiDrPxz4ku3Zrswv54In6ee919e+Xk51ftrQ9t3lOIe+35urel7rakQmAtvzgaOpPqHcLmlGS5O8FwvbxltP8I+f3Dv4DbCupN3LCWVn4HwASetJ+qaq7oz7gEuAjdV73+W5tjemujD4V6pPIpS6n6eqq+nWUvd/UF1L6GZr4EOl6XlPSTATgF720RbAXSWZrfQPYHzLePv+6+TxMrbvp/qkt0WJbfe22A4FNqfappWfLLut+2aXj0st8ztt19bAiS3ruIvqU9v4DmU7ubVl+EFg/R6X67b8Oqq6nram6kpq3f6PU73ug9W6r38DnAKcCtwmabqkDXutSNKHSnfJvSW2jXjysdZtu7ag82szUAPZ763H4UDXP4Gq1denvt57/ezrN1C1nP6hqmt05c0fXd+bQ3Be62pEJgIA2+fY3pNqxxo4ocx6gKp7ZqXNOy3eNn4esJeqPv3X0SURlE8e51IljbcAP205YX6I6pPT7rY3pOoWgerkM5DtuoPq0+zxkp5TJn8D+BswqdT98X7qXUjVhbVxy996tr/XQwiLgU0lbdAybSuqZvTjYfZQz4SVA5LWp+q6WFxi+11bbOvbfh9VF9Fyqte027rHS1Lb/MUd1r8QeG/beta1fVkPsQ/EQB/vuxC4sS2uDWwfMFQx2D7J9q7AC6m6tz7SS6yqrgccA7wJ2KR8MLmX3o7hW+j82vQU8yC11jHQ9S8Etu1j/kp9vve67evS0jgI2Ay4gOq8sXK9Xd+bfZzXVsmITASSni/pFZKeQdVnuYyqWQVV//8BkjaVtDlVhu2T7SVU/cBnUr1Jr+2j+DlU3ReH8uSEsUGJ4x5JmwKfGsg2tcXzN+Ai4KMtdd8H3C9pe+B9bYvcRtXXvNJpwBGl5SJJz5R0YNvJvdu6FwKXAV+QtE65kPVuqmb6QBwgac9yYe2zwJWl7p8Cz5P0NklPL38vkfSC0t1wLvB5SRuUVtcHgdZ78jcDjirLvZGqX3ZWh/VPAz4m6YXw+EXoNw5wG3pxG/AsSRv1WP4PwH3louC6kkapupj7kqEIpuzL3SU9nepD0UM88d5oP07abUB1DWYJMFrScVR97724vCx7lKTRkl5P1dffzW3AluX4GAoDXf/pwIcl7VreI9t16Tbs+t7rtq8ljVH1fY+NbC8vy698Dbq+N/s5r62SEZkIqPrRVl5QvZXq5PDxMu87wJ+pLsD8Avh+j3WeA+xD924hAGxfSfWib0F1x8hKX6O6WHcHcAXw8x7X282XgamSNgM+TNUCWUp1ILVv0/HAt0pT802251D1RZ4C3E110fSwAaz7EKoLVYupur4+ZfuXA4z/HKpkeBdVN9ehAKUF9WqqPvHFVK/fCVSvKcAHqPbvAuDSUs8ZLfVeCUyi2s+fp7qWcmf7ym2fX+qdUZr0fwX2H+A29Ksk7e8BC8r+77MpX5Ldv1F1K95ItR2nU3XBDIUNqY6Ru6m6Ru4EvlLm/TdV//M9ki7osOxFVMf09WXZh+itGxDbjwCvpzrO7qb6sPSjPhb5DdUty7dKuqOXdQzl+m2fR3X8nEP1vrqAqtXarq/3Xl/7+m3ATeXYO4LqIjz9vDf7Oq+tEj25yyyifpLOorqT5hNDXO9hVHcF7TmU9UaMdCO1RRARET1KIoiIaLh0DUVENFxaBBERDbfWPYRq7Nixnjhx4uoOIyJirTJ37tw7bI/rNG+tSwQTJ05kzpw5qzuMiIi1iqSu36RO11BERMMlEURENFwSQUREwyURREQ0XBJBRETDJRFERDRcEkFERMMlEURENFwSQUREw6113yxeFROPvXB1hxBrsJu+2Ok37iNGvrQIIiIaLokgIqLhkggiIhouiSAiouGSCCIiGq7WRCBpP0nXSZov6dguZfaSdJWkeZJ+V2c8ERHxVLXdPippFHAq8CpgETBb0kzb17SU2Rj4OrCf7X9K2qyueCIiorM6WwS7AfNtL7D9CDADOKitzFuAH9n+J4Dt22uMJyIiOqgzEYwHFraMLyrTWj0P2ETSxZLmSnp7p4okTZU0R9KcJUuW1BRuREQz1ZkI1GGa28ZHA7sCBwL7Ap+U9LynLGRPtz3Z9uRx4zr+9nJERAxSnY+YWARMaBnfEljcocwdth8AHpB0CbATcH2NcUVERIs6WwSzgUmStpE0BpgCzGwr82PgZZJGS1oP2B24tsaYIiKiTW0tAtsrJB0JXASMAs6wPU/SEWX+NNvXSvo5cDXwGHC67b/WFVNERDxVrU8ftT0LmNU2bVrb+JeBL9cZR0REdJdvFkdENFwSQUREwyURREQ0XBJBRETDJRFERDRcEkFERMMlEURENFwSQUREwyURREQ0XBJBRETDJRFERDRcEkFERMMlEURENFwSQUREwyURREQ0XBJBRETDJRFERDRcEkFERMMlEURENFwSQUREwyURREQ0XBJBRETDJRFERDRcEkFERMPVmggk7SfpOknzJR3bYf5eku6VdFX5O67OeCIi4qlG11WxpFHAqcCrgEXAbEkzbV/TVvT/235NXXFERETf6mwR7AbMt73A9iPADOCgGtcXERGDUGciGA8sbBlfVKa1e6mkP0v6maQXdqpI0lRJcyTNWbJkSR2xRkQ0Vp2JQB2muW38j8DWtncCTgYu6FSR7em2J9uePG7cuKGNMiKi4epMBIuACS3jWwKLWwvYvs/2/WV4FvB0SWNrjCkiItrUmQhmA5MkbSNpDDAFmNlaQNLmklSGdyvx3FljTBER0aa2u4Zsr5B0JHARMAo4w/Y8SUeU+dOAg4H3SVoBLAOm2G7vPoqIiBrVlgjg8e6eWW3TprUMnwKcUmcMERHRt3yzOCKi4ZIIIiIaLokgIqLhkggiIhouiSAiouGSCCIiGi6JICKi4ZIIIiIaLokgIqLhkggiIhouiSAiouGSCCIiGi6JICKi4ZIIIiIaLokgIqLhkggiIhouiSAiouGSCCIiGi6JICKi4ZIIIiIart9EIGk9SZ+UdFoZnyTpNfWHFhERw6GXFsGZwMPAS8v4IuBztUUUERHDqpdEsK3tLwHLAWwvA1RrVBERMWx6SQSPSFoXMICkbalaCBERMQL0kgiOB34OTJD0XeDXwDG9VC5pP0nXSZov6dg+yr1E0qOSDu6l3oiIGDqj+ytg+xeS5gJ7UHUJ/V/bd/S3nKRRwKnAq6iuK8yWNNP2NR3KnQBcNIj4IyJiFfVy19Cvbd9p+0LbP7V9h6Rf91D3bsB82wtsPwLMAA7qUO4DwA+B2wcUeUREDImuLQJJ6wDrAWMlbcITF4g3BLbooe7xwMKW8UXA7m3rGA+8DngF8JI+YpkKTAXYaqutelh1RET0qq+uofcCR1Od9OfyRCK4j6rLpz+d7ixy2/jXgGNsPyp1vxHJ9nRgOsDkyZPb64iIiFXQNRHYPhE4UdIHbJ88iLoXARNaxrcEFreVmQzMKElgLHCApBW2LxjE+iIiYhB6uVh8sqQdgR2AdVqmf7ufRWcDkyRtA9wMTAHe0lb3NiuHJZ0F/DRJICJiePWbCCR9CtiLKhHMAvYHLgX6TAS2V0g6kupuoFHAGbbnSTqizJ+2aqFHRMRQ6DcRAAcDOwF/sv1OSc8GTu+lctuzqJJH67SOCcD2Yb3UGRERQ6uXL5Qts/0YsELShlS3eT633rAiImK49NIimCNpY+A0qruH7gf+UGdQERExfHq5WPx/yuA0ST8HNrR9db1hRUTEcOmza0jSKEljWyYtBvaQdG29YUVExHDpmggkTQHuAq6W9DtJewMLqO4aOnSY4ouIiJr11TX0CWBX2/Ml7QJcDkyxff7whBYREcOhr66hR2zPB7D9R+DGJIGIiJGnrxbBZpI+2DK+fuu47a/WF1ZERAyXvhLBacAGfYxHRMQI0NdD5z49nIFERMTq0cs3iyMiYgRLIoiIaLgkgoiIhuvrpyo/2G0e5K6hiIiRoq+7hnKHUEREA+SuoYiIhuvlF8rWAd4NvJAn/1Tlu2qMKyIihkkvF4u/A2wO7Av8jupH6JfWGVRERAyfXhLBdrY/CTxg+1vAgcCL6g0rIiKGSy+JYHn5f4+kHYGNgIm1RRQREcOql5+qnC5pE+CTwExg/TIcEREjQC+J4Ezbj1JdH8iP1kdEjDC9dA3dKGm6pFdKUu0RRUTEsOolETwf+BXwfuAmSadI2rPesCIiYrj0mwhsL7N9ru3XAzsDG1J1E/VL0n6SrpM0X9KxHeYfJOlqSVdJmpMEExEx/Hp66Jykl0v6OvBHqi+VvamHZUYBp1L92P0OwCGSdmgr9mtgJ9s7A+8CTu899IiIGAq9fLP4RuAq4FzgI7Yf6LHu3YD5theUemYABwHXrCxg+/6W8s8E3GPdERExRHq5a2gn2/cNou7xwMKW8UXA7u2FJL0O+AKwGdWX1Z5C0lRgKsBWW201iFAiIqKbvh5D/VHbXwI+L+kpn9RtH9VP3Z3uMOpUz/nA+ZL+FfgssE+HMtOB6QCTJ09OqyEiYgj11SK4tvyfM8i6FwETWsa3BBZ3K2z7EknbShpr+45BrjMiIgaor8dQ/6QMXm37T4OoezYwSdI2wM3AFOAtrQUkbQfcYNuSdgHGAHcOYl0RETFIvVwj+Kqk5wDnATNsz+ulYtsrJB0JXASMAs6wPU/SEWX+NOANwNslLQeWAW+2na6fiIhh1G8isL23pM2pbhmdLmlD4Pu2P9fDsrOAWW3TprUMnwCcMOCoIyJiyPT0PQLbt9o+CTiC6lbS4+oMKiIihk+/iUDSCyQdL+mvwCnAZVQXfiMiYgTo6emjwPeAV9vuetdPRESsnfpMBOUxETfYPnGY4omIiGHWZ9dQ+R2CZ0kaM0zxRETEMOula+gfwO8lzQQef86Q7a/WFlVERAybXhLB4vL3NGCDesOJiIjh1sv3CD49HIFERMTq0ctjqH9L54fFvaKWiCIiYlj10jX04ZbhdageC7GinnAiImK49dI1NLdt0u8l9fRTlRERsebrpWto05bRpwG7ApvXFlFERAyrXrqG5lJdIxBVl9CNwLvrDCoiIoZPL11D2wxHIBFRmXjshas7hFhD3fTFjr/mu8p6eejcGyVtUIY/IelH5UdkIiJiBOjlMdSftL1U0p7AvsC3gG/UG1ZERAyXXhLBo+X/gcA3bP+Y6iclIyJiBOglEdws6ZtUv1A2S9IzelwuIiLWAr2c0N9E9bvD+9m+B9gU+EidQUVExPDp5a6hB4EftYzfAtxSZ1ARETF80sUTEdFwSQQREQ2XRBAR0XBJBBERDVdrIpC0n6TrJM2XdGyH+YdKurr8XSZppzrjiYiIp6otEUgaBZwK7A/sABwiaYe2YjcCL7f9YuCzwPS64omIiM7qbBHsBsy3vcD2I8AM4KDWArYvs313Gb0C2LLGeCIiooM6E8F4YGHL+KIyrZt3Az/rNEPSVElzJM1ZsmTJEIYYERF1JgJ1mPaU3z4GkLQ3VSI4ptN829NtT7Y9edy4cUMYYkRE9PLDNIO1CJjQMr4lsLi9kKQXA6cD+9u+s8Z4IiKigzpbBLOBSZK2kTQGmALMbC0gaSuqx1e8zfb1NcYSERFd1NYisL1C0pFUD6wbBZxhe56kI8r8acBxwLOAr0sCWGF7cl0xRUTEU9XZNYTtWcCstmnTWoYPBw6vM4aIiOhbvlkcEdFwSQQREQ2XRBAR0XBJBBERDZdEEBHRcEkEERENl0QQEdFwSQQREQ2XRBAR0XBJBBERDZdEEBHRcEkEERENl0QQEdFwSQQREQ2XRBAR0XBJBBERDZdEEBHRcEkEERENl0QQEdFwSQQREQ2XRBAR0XBJBBERDZdEEBHRcEkEERENV2sikLSfpOskzZd0bIf520u6XNLDkj5cZywREdHZ6LoqljQKOBV4FbAImC1ppu1rWordBRwFvLauOCIiom91tgh2A+bbXmD7EWAGcFBrAdu3254NLK8xjoiI6EOdiWA8sLBlfFGZNmCSpkqaI2nOkiVLhiS4iIio1JkI1GGaB1OR7em2J9uePG7cuFUMKyIiWtWZCBYBE1rGtwQW17i+iIgYhDoTwWxgkqRtJI0BpgAza1xfREQMQm13DdleIelI4CJgFHCG7XmSjijzp0naHJgDbAg8JuloYAfb99UVV0REPFltiQDA9ixgVtu0aS3Dt1J1GUVExGqSbxZHRDRcEkFERMMlEURENFwSQUREwyURREQ0XBJBRETDJRFERDRcEkFERMMlEURENFwSQUREwyURREQ0XBJBRETDJRFERDRcEkFERMMlEURENFwSQUREwyURREQ0XBJBRETDJRFERDRcEkFERMMlEURENFwSQUREwyURREQ0XBJBRETD1ZoIJO0n6TpJ8yUd22G+JJ1U5l8taZc644mIiKeqLRFIGgWcCuwP7AAcImmHtmL7A5PK31TgG3XFExERndXZItgNmG97ge1HgBnAQW1lDgK+7coVwMaSnlNjTBER0WZ0jXWPBxa2jC8Cdu+hzHjgltZCkqZStRgA7pd03dCG2lhjgTtWdxBrCp2wuiOIDnKMtljFY3TrbjPqTATqMM2DKIPt6cD0oQgqniBpju3JqzuOiG5yjA6POruGFgETWsa3BBYPokxERNSozkQwG5gkaRtJY4ApwMy2MjOBt5e7h/YA7rV9S3tFERFRn9q6hmyvkHQkcBEwCjjD9jxJR5T504BZwAHAfOBB4J11xRMdpbst1nQ5RoeB7Kd0yUdERIPkm8UREQ2XRBAR0XBJBGsoSY9Kuqrlb6KkywZYx9GS1utj/m6SLimPAfmbpNMlrSfpMEmnrPpWxEgj6Vktx+Stkm4uw/dIuqbLMp+RtE8Pde8l6add5j1d0hcl/V3SXyX9QdL+Zd5Nksau2pY1W53fI4hVs8z2zm3T/nd7IUmjbD/apY6jgbOpLsS3L/ds4Dxgiu3LJQl4A7DBqgQdI5vtO4GdASQdD9xv+yuSJgIdT+K2j+s0vZ9jt91ngecAO9p+uBy/Lx9Y9NFNWgRrEUn3l/97SfqtpHOAv0h6pqQLJf25fFp6s6SjgC2A30r6bYfq3g98y/blAOUxHz+wfVvbOv9N0pWS/iTpV+UNiKSXt3wy/JOkDSQ9p7QwripxvKzWHRJrmlGSTpM0T9IvJK0LIOksSQeX4ZskHSfpUuCN5cGUfyvjr+9UaWnVvgf4gO2HAWzfZvvcDmUvkDS3xDC1TBtVYvirpL9I+vcy/ShJ15QHXs6oY4esLdIiWHOtK+mqMnyj7de1zd+N6tPRjZLeACy2fSCApI1s3yvpg8Detjt9RX9H4Fs9xHEpsIdtSzoc+CjwIeDDwPtt/17S+sBDVI8Bucj258tDB7t2S8WINAk4xPZ7JJ1L1cI8u0O5h2zvKWkd4O/AK6huIf9+l3q3A/5p+74eYniX7btKEpot6YfARGC87R0BJG1cyh4LbFNaGBt3qqwp0iJYcy2zvXP5a08CAH+wfWMZ/guwj6QTJL3M9r1DGMeWwEWS/gJ8BHhhmf574Kul5bGx7RVUXyJ8Z+kyeJHtpUMYR6z5brR9VRmeS3UC7mTlCX/7sszfXd3H3ilpDNRRkv4MXEH11IJJwALguZJOlrQfsDKhXA18V9JbgRVDsO61VhLB2uuBlQO2rwd2pUoIX5D0lD5ZSa9r6cqZDMwry/TnZOAU2y8C3gusU9b5ReBwYF3gCknb274E+FfgZuA7kt6+SlsYa5uHW4YfpXuPwwMtwx2/yCTponKsnk7VWthKUp/XryTtBewDvNT2TsCfgHVs3w3sBFxM1SV6elnkQKpH5e8KzJXU2B6Sxm74SCJpC+Au22eX6wiHlVlLqS7+3mH7fOD8lmUWAn+QdKHtK8u0twK/aqt+I6oTO8A7Wpbf1vZfqK5RvBTYXtIy4Gbbp0l6JrAL8O0h3twYOf4GbFOOpRuAQ1bOsL1va0FJ/w2cJOm9th9R9bj6V9pubUVsBNxt+0FJ2wN7lGXHAo/Y/qGkG4CzJD0NmGD7t+X6xFuA9YF76tvcNVcSwcjwIuDLkh4DlgPvK9OnAz+TdIvtvVsXsH2bpCnAVyRtBjwGXAL8qK3u44HzJN1M1dzepkw/WtLeVJ/8rgF+RvU8qY9IWg7cD6RFEF3Zfqhc0L1Q0h1U16N27FL8E8DngGskPUTVqmhv+f4cOELS1cB1VMcrVI+2P7Oc/AE+RvXYm7MlbUT1FOT/sn3P0GzZ2iePmIiIaLhcI4iIaLgkgoiIhksiiIhouCSCiIiGSyKIiGi4JIKIiIZLIoiIaLj/Ac5EC9cOmdV1AAAAAElFTkSuQmCC",
            "text/plain": [
              "<Figure size 432x288 with 1 Axes>"
            ]
          },
          "metadata": {
            "needs_background": "light"
          },
          "output_type": "display_data"
        }
      ],
      "source": [
        "x = [\"First-Class\", \"Third-Class\"]\n",
        "y = [np.mean(df[\"survived\"][df[\"class\"]==1]), np.mean(df[\"survived\"][df[\"class\"]==3])]\n",
        "plt.bar(x, y)\n",
        "plt.ylabel(\"survival Rate\")\n",
        "plt.title(\"survival Rate for people in the first and third classes\")\n",
        "plt.show()"
      ]
    },
    {
      "cell_type": "code",
      "execution_count": 365,
      "metadata": {
        "id": "3am2R_mu0bGO"
      },
      "outputs": [],
      "source": [
        "First_Class_Sample = np.array([np.mean(df[df[\"class\"]==1].sample(20)[\"survived\"].values) for i in range(100)])\n",
        "third_Class_Sample = np.array([np.mean(df[df[\"class\"]==3].sample(20)[\"survived\"].values) for i in range(100)])"
      ]
    },
    {
      "cell_type": "code",
      "execution_count": 366,
      "metadata": {
        "colab": {
          "base_uri": "https://localhost:8080/",
          "height": 456
        },
        "id": "JPCW83Qm4x3F",
        "outputId": "d70dd395-1306-435f-85cb-8099bd06818d"
      },
      "outputs": [
        {
          "name": "stderr",
          "output_type": "stream",
          "text": [
            "/Users/swathi/opt/anaconda3/lib/python3.9/site-packages/seaborn/distributions.py:2619: FutureWarning: `distplot` is a deprecated function and will be removed in a future version. Please adapt your code to use either `displot` (a figure-level function with similar flexibility) or `histplot` (an axes-level function for histograms).\n",
            "  warnings.warn(msg, FutureWarning)\n",
            "/Users/swathi/opt/anaconda3/lib/python3.9/site-packages/seaborn/distributions.py:2619: FutureWarning: `distplot` is a deprecated function and will be removed in a future version. Please adapt your code to use either `displot` (a figure-level function with similar flexibility) or `histplot` (an axes-level function for histograms).\n",
            "  warnings.warn(msg, FutureWarning)\n"
          ]
        },
        {
          "data": {
            "image/png": "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",
            "text/plain": [
              "<Figure size 720x360 with 2 Axes>"
            ]
          },
          "metadata": {
            "needs_background": "light"
          },
          "output_type": "display_data"
        }
      ],
      "source": [
        "# make plots to check if the distributions are normal.\n",
        "\n",
        "plt.subplots(1, 2, figsize = (10, 5))\n",
        "plt.subplot(1,2, 1)\n",
        "sns.distplot(First_Class_Sample)\n",
        "\n",
        "plt.title(f\"First-Class Sample Distribution \\n Mean: {np.mean(First_Class_Sample)}\")\n",
        "plt.xlabel(\"Survival Rate\")\n",
        "plt.ylabel(\"Frequency\")\n",
        "\n",
        "\n",
        "\n",
        "\n",
        "plt.subplot(1, 2, 2)\n",
        "sns.distplot(third_Class_Sample)\n",
        "plt.title(f\"Third-Class Sample Distribution \\n Mean: {np.mean(third_Class_Sample)}\")\n",
        "plt.xlabel(\"Survival Rate\")\n",
        "plt.ylabel(\"Frequency\")\n",
        "\n",
        "\n",
        "plt.show()"
      ]
    },
    {
      "cell_type": "code",
      "execution_count": 367,
      "metadata": {
        "id": "qh1Np0jizHTK"
      },
      "outputs": [],
      "source": [
        "# calculate the z-score and the p-value\n",
        "\n",
        "effect = np.mean(First_Class_Sample) - np.mean(third_Class_Sample)\n",
        "sigma_first = np.std(First_Class_Sample)\n",
        "sigma_third = np.std(third_Class_Sample)\n",
        "sigma_difference = np.sqrt((sigma_first**2)/len(First_Class_Sample)  +  (sigma_third**2)/len(third_Class_Sample))\n",
        "z_score = effect / sigma_difference"
      ]
    },
    {
      "cell_type": "code",
      "execution_count": 368,
      "metadata": {
        "colab": {
          "base_uri": "https://localhost:8080/"
        },
        "id": "StiYiQTvBwKN",
        "outputId": "6cfef757-48b1-45af-e127-955cfca0af08"
      },
      "outputs": [
        {
          "name": "stdout",
          "output_type": "stream",
          "text": [
            "26.849672631005983\n"
          ]
        }
      ],
      "source": [
        "print(z_score)"
      ]
    },
    {
      "cell_type": "code",
      "execution_count": 369,
      "metadata": {
        "colab": {
          "base_uri": "https://localhost:8080/"
        },
        "id": "1WSr5Z8jzHWD",
        "outputId": "7a3feddd-c8a7-43cc-f225-797604cf3e4e"
      },
      "outputs": [
        {
          "data": {
            "text/plain": [
              "8.509151584385311e-159"
            ]
          },
          "execution_count": 369,
          "metadata": {},
          "output_type": "execute_result"
        }
      ],
      "source": [
        "# P-value \n",
        "st.norm.sf(abs(z_score))*2"
      ]
    },
    {
      "cell_type": "code",
      "execution_count": 370,
      "metadata": {
        "colab": {
          "base_uri": "https://localhost:8080/",
          "height": 265
        },
        "id": "qFAVMZHix6K_",
        "outputId": "802d6af4-3e08-4417-f5b4-ff18b7c099e7"
      },
      "outputs": [
        {
          "data": {
            "image/png": "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",
            "text/plain": [
              "<Figure size 432x288 with 1 Axes>"
            ]
          },
          "metadata": {
            "needs_background": "light"
          },
          "output_type": "display_data"
        }
      ],
      "source": [
        "##Normal distrubation plot\n",
        "# Plot between -10 and 10 with .001 steps.\n",
        "x_axis = np.arange(-20, 20, 0.01)\n",
        "  \n",
        "# Calculating mean and standard deviation\n",
        "mean = statistics.mean(x_axis)\n",
        "sd = statistics.stdev(x_axis)\n",
        "  \n",
        "plt.plot(x_axis, norm.pdf(x_axis, mean, sd))\n",
        "plt.show()"
      ]
    },
    {
      "cell_type": "code",
      "execution_count": 371,
      "metadata": {
        "colab": {
          "base_uri": "https://localhost:8080/",
          "height": 279
        },
        "id": "0PaGMXlXrBcx",
        "outputId": "70b8c2e5-c49e-40b0-e4b9-a7e10ecf7e99"
      },
      "outputs": [
        {
          "name": "stderr",
          "output_type": "stream",
          "text": [
            "/Users/swathi/opt/anaconda3/lib/python3.9/site-packages/statsmodels/graphics/gofplots.py:993: UserWarning: marker is redundantly defined by the 'marker' keyword argument and the fmt string \"bo\" (-> marker='o'). The keyword argument will take precedence.\n",
            "  ax.plot(x, y, fmt, **plot_style)\n"
          ]
        },
        {
          "data": {
            "image/png": "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",
            "text/plain": [
              "<Figure size 432x288 with 1 Axes>"
            ]
          },
          "metadata": {
            "needs_background": "light"
          },
          "output_type": "display_data"
        }
      ],
      "source": [
        "##QQ plot\n",
        "data_points = np.random.normal(0, 1, 100)    \n",
        "  \n",
        "sm.qqplot(data_points, line ='45')\n",
        "py.show()"
      ]
    },
    {
      "cell_type": "code",
      "execution_count": null,
      "metadata": {
        "id": "bWjRd0GV3n4V"
      },
      "outputs": [],
      "source": []
    }
  ],
  "metadata": {
    "colab": {
      "collapsed_sections": [],
      "name": "Titanic.ipynb",
      "provenance": []
    },
    "kernelspec": {
      "display_name": "Python 3",
      "name": "python3"
    },
    "language_info": {
      "codemirror_mode": {
        "name": "ipython",
        "version": 3
      },
      "file_extension": ".py",
      "mimetype": "text/x-python",
      "name": "python",
      "nbconvert_exporter": "python",
      "pygments_lexer": "ipython3",
      "version": "3.9.7"
    }
  },
  "nbformat": 4,
  "nbformat_minor": 0
}
0 comments on commit 0b9e10e
 @SwathiMounika
 
 

Attach files by dragging & dropping, selecting or pasting them.
 You’re receiving notifications because you’re watching this repository.
Footer
© 2023 GitHub, Inc.
Footer navigation
Terms
Privacy
Security
Status
Docs
Contact GitHub
Pricing
API
Training
Blog
About
@@ -0,0 +1,1461 @@ { "cells": [ { "cell_type": "code", "execution_count": 336, "metadata": { "id": "ShD_s_eV-uV-" }, "outputs": [], "source": [ "from scipy.stats import norm\n", "from scipy import stats as st\n", "from sklearn.model_selection import train_test_split\n", "import seaborn\n", "from sklearn import metrics\n", "import matplotlib.pyplot as plt\n", "import numpy as np\n", "import pandas as pd\n", "import seaborn as sns\n", "import statsmodels.api as sm\n", "import pylab as py\n", "import statistics\n", "%matplotlib inline" ] }, { "cell_type": "code", "execution_count": 337, "metadata": { "colab": { "base_uri": "https://localhost:8080/", "height": 206 }, "id": "7hDaVvoI_EK5", "outputId": "7f15eb69-bd8c-43c8-93f4-7cbcb43b86cf" }, "outputs": [ { "data": { "text/html": [ "<div>\n", "<style scoped>\n", " .dataframe tbody tr th:only-of-type {\n", " vertical-align: middle;\n", " }\n", "\n", " .dataframe tbody tr th {\n", " vertical-align: top;\n", " }\n", "\n", " .dataframe thead th {\n", " text-align: right;\n", " }\n", "</style>\n", "<table border=\"1\" class=\"dataframe\">\n", " <thead>\n", " <tr style=\"text-align: right;\">\n", " <th></th>\n", " <th>sex</th>\n", " <th>age</th>\n", " <th>sibsp</th>\n", " <th>parch</th>\n", " <th>fare</th>\n", " <th>embarked</th>\n", " <th>class</th>\n", " <th>who</th>\n", " <th>alone</th>\n", " <th>survived</th>\n", " </tr>\n", " </thead>\n", " <tbody>\n", " <tr>\n", " <th>0</th>\n", " <td>male</td>\n", " <td>22.0</td>\n", " <td>1</td>\n", " <td>0</td>\n", " <td>7.2500</td>\n", " <td>S</td>\n", " <td>Third</td>\n", " <td>man</td>\n", " <td>False</td>\n", " <td>0</td>\n", " </tr>\n", " <tr>\n", " <th>1</th>\n", " <td>female</td>\n", " <td>38.0</td>\n", " <td>1</td>\n", " <td>0</td>\n", " <td>71.2833</td>\n", " <td>C</td>\n", " <td>First</td>\n", " <td>woman</td>\n", " <td>False</td>\n", " <td>1</td>\n", " </tr>\n", " <tr>\n", " <th>2</th>\n", " <td>female</td>\n", " <td>26.0</td>\n", " <td>0</td>\n", " <td>0</td>\n", " <td>7.9250</td>\n", " <td>S</td>\n", " <td>Third</td>\n", " <td>woman</td>\n", " <td>True</td>\n", " <td>1</td>\n", " </tr>\n", " <tr>\n", " <th>3</th>\n", " <td>female</td>\n", " <td>35.0</td>\n", " <td>1</td>\n", " <td>0</td>\n", " <td>53.1000</td>\n", " <td>S</td>\n", " <td>First</td>\n", " <td>woman</td>\n", " <td>False</td>\n", " <td>1</td>\n", " </tr>\n", " <tr>\n", " <th>4</th>\n", " <td>male</td>\n", " <td>35.0</td>\n", " <td>0</td>\n", " <td>0</td>\n", " <td>8.0500</td>\n", " <td>S</td>\n", " <td>Third</td>\n", " <td>man</td>\n", " <td>True</td>\n", " <td>0</td>\n", " </tr>\n", " </tbody>\n", "</table>\n", "</div>" ], "text/plain": [ " sex age sibsp parch fare embarked class who alone survived\n", "0 male 22.0 1 0 7.2500 S Third man False 0\n", "1 female 38.0 1 0 71.2833 C First woman False 1\n", "2 female 26.0 0 0 7.9250 S Third woman True 1\n", "3 female 35.0 1 0 53.1000 S First woman False 1\n", "4 male 35.0 0 0 8.0500 S Third man True 0" ] }, "execution_count": 337, "metadata": {}, "output_type": "execute_result" } ], "source": [ "\n", "df =pd.read_csv('Titanic.csv')\n", "\n", "df.head()" ] }, { "cell_type": "code", "execution_count": 338, "metadata": { "colab": { "base_uri": "https://localhost:8080/", "height": 300 }, "id": "jVR74hAQHgTp", "outputId": "ba558916-09b0-4ff1-9320-4f5905bb07c1" }, "outputs": [ { "data": { "text/html": [ "<div>\n", "<style scoped>\n", " .dataframe tbody tr th:only-of-type {\n", " vertical-align: middle;\n", " }\n", "\n", " .dataframe tbody tr th {\n", " vertical-align: top;\n", " }\n", "\n", " .dataframe thead th {\n", " text-align: right;\n", " }\n", "</style>\n", "<table border=\"1\" class=\"dataframe\">\n", " <thead>\n", " <tr style=\"text-align: right;\">\n", " <th></th>\n", " <th>age</th>\n", " <th>sibsp</th>\n", " <th>parch</th>\n", " <th>fare</th>\n", " <th>survived</th>\n", " </tr>\n", " </thead>\n", " <tbody>\n", " <tr>\n", " <th>count</th>\n", " <td>714.000000</td>\n", " <td>891.000000</td>\n", " <td>891.000000</td>\n", " <td>891.000000</td>\n", " <td>891.000000</td>\n", " </tr>\n", " <tr>\n", " <th>mean</th>\n", " <td>29.699118</td>\n", " <td>0.523008</td>\n", " <td>0.381594</td>\n", " <td>32.204208</td>\n", " <td>0.383838</td>\n", " </tr>\n", " <tr>\n", " <th>std</th>\n", " <td>14.526497</td>\n", " <td>1.102743</td>\n", " <td>0.806057</td>\n", " <td>49.693429</td>\n", " <td>0.486592</td>\n", " </tr>\n", " <tr>\n", " <th>min</th>\n", " <td>0.420000</td>\n", " <td>0.000000</td>\n", " <td>0.000000</td>\n", " <td>0.000000</td>\n", " <td>0.000000</td>\n", " </tr>\n", " <tr>\n", " <th>25%</th>\n", " <td>20.125000</td>\n", " <td>0.000000</td>\n", " <td>0.000000</td>\n", " <td>7.910400</td>\n", " <td>0.000000</td>\n", " </tr>\n", " <tr>\n", " <th>50%</th>\n", " <td>28.000000</td>\n", " <td>0.000000</td>\n", " <td>0.000000</td>\n", " <td>14.454200</td>\n", " <td>0.000000</td>\n", " </tr>\n", " <tr>\n", " <th>75%</th>\n", " <td>38.000000</td>\n", " <td>1.000000</td>\n", " <td>0.000000</td>\n", " <td>31.000000</td>\n", " <td>1.000000</td>\n", " </tr>\n", " <tr>\n", " <th>max</th>\n", " <td>80.000000</td>\n", " <td>8.000000</td>\n", " <td>6.000000</td>\n", " <td>512.329200</td>\n", " <td>1.000000</td>\n", " </tr>\n", " </tbody>\n", "</table>\n", "</div>" ], "text/plain": [ " age sibsp parch fare survived\n", "count 714.000000 891.000000 891.000000 891.000000 891.000000\n", "mean 29.699118 0.523008 0.381594 32.204208 0.383838\n", "std 14.526497 1.102743 0.806057 49.693429 0.486592\n", "min 0.420000 0.000000 0.000000 0.000000 0.000000\n", "25% 20.125000 0.000000 0.000000 7.910400 0.000000\n", "50% 28.000000 0.000000 0.000000 14.454200 0.000000\n", "75% 38.000000 1.000000 0.000000 31.000000 1.000000\n", "max 80.000000 8.000000 6.000000 512.329200 1.000000" ] }, "execution_count": 338, "metadata": {}, "output_type": "execute_result" } ], "source": [ "df.describe()" ] }, { "cell_type": "code", "execution_count": 339, "metadata": { "colab": { "base_uri": "https://localhost:8080/" }, "id": "_qgSi3Cg_Vcb", "outputId": "e4adfe44-f672-4915-b50c-82fb3ae927c0" }, "outputs": [ { "data": { "text/plain": [ "sex 0\n", "age 177\n", "sibsp 0\n", "parch 0\n", "fare 0\n", "embarked 2\n", "class 0\n", "who 0\n", "alone 0\n", "survived 0\n", "dtype: int64" ] }, "execution_count": 339, "metadata": {}, "output_type": "execute_result" } ], "source": [ "df.isnull().sum()" ] }, { "cell_type": "code", "execution_count": 340, "metadata": { "colab": { "base_uri": "https://localhost:8080/" }, "id": "JrAoTj4JuEuW", "outputId": "8c08dcf4-9bfe-4527-c5d1-10b73189e2c4" }, "outputs": [ { "data": { "text/plain": [ "(891, 10)" ] }, "execution_count": 340, "metadata": {}, "output_type": "execute_result" } ], "source": [ "df.shape" ] }, { "cell_type": "code", "execution_count": 341, "metadata": { "id": "QzZMFxwTveLr" }, "outputs": [], "source": [ "df['age']=df['age'].fillna(value=df['age'].mean())" ] }, { "cell_type": "code", "execution_count": 342, "metadata": { "colab": { "base_uri": "https://localhost:8080/", "height": 206 }, "id": "YKCbah18veN9", "outputId": "22f90000-fc7c-4903-83b0-d5f78a71e93c" }, "outputs": [ { "data": { "text/html": [ "<div>\n", "<style scoped>\n", " .dataframe tbody tr th:only-of-type {\n", " vertical-align: middle;\n", " }\n", "\n", " .dataframe tbody tr th {\n", " vertical-align: top;\n", " }\n", "\n", " .dataframe thead th {\n", " text-align: right;\n", " }\n", "</style>\n", "<table border=\"1\" class=\"dataframe\">\n", " <thead>\n", " <tr style=\"text-align: right;\">\n", " <th></th>\n", " <th>sex</th>\n", " <th>age</th>\n", " <th>fare</th>\n", " <th>class</th>\n", " <th>who</th>\n", " <th>survived</th>\n", " </tr>\n", " </thead>\n", " <tbody>\n", " <tr>\n", " <th>0</th>\n", " <td>male</td>\n", " <td>22.0</td>\n", " <td>7.2500</td>\n", " <td>Third</td>\n", " <td>man</td>\n", " <td>0</td>\n", " </tr>\n", " <tr>\n", " <th>1</th>\n", " <td>female</td>\n", " <td>38.0</td>\n", " <td>71.2833</td>\n", " <td>First</td>\n", " <td>woman</td>\n", " <td>1</td>\n", " </tr>\n", " <tr>\n", " <th>2</th>\n", " <td>female</td>\n", " <td>26.0</td>\n", " <td>7.9250</td>\n", " <td>Third</td>\n", " <td>woman</td>\n", " <td>1</td>\n", " </tr>\n", " <tr>\n", " <th>3</th>\n", " <td>female</td>\n", " <td>35.0</td>\n", " <td>53.1000</td>\n", " <td>First</td>\n", " <td>woman</td>\n", " <td>1</td>\n", " </tr>\n", " <tr>\n", " <th>4</th>\n", " <td>male</td>\n", " <td>35.0</td>\n", " <td>8.0500</td>\n", " <td>Third</td>\n", " <td>man</td>\n", " <td>0</td>\n", " </tr>\n", " </tbody>\n", "</table>\n", "</div>" ], "text/plain": [ " sex age fare class who survived\n", "0 male 22.0 7.2500 Third man 0\n", "1 female 38.0 71.2833 First woman 1\n", "2 female 26.0 7.9250 Third woman 1\n", "3 female 35.0 53.1000 First woman 1\n", "4 male 35.0 8.0500 Third man 0" ] }, "execution_count": 342, "metadata": {}, "output_type": "execute_result" } ], "source": [ "df.drop(['sibsp','parch','embarked','alone'], axis='columns', inplace=True )\n", "df.head()" ] }, { "cell_type": "code", "execution_count": 343, "metadata": {}, "outputs": [], "source": [ "target = df.survived\n", "inputs = df.loc[:, df.columns != 'survived']" ] }, { "cell_type": "code", "execution_count": 344, "metadata": {}, "outputs": [ { "data": { "text/html": [ "<div>\n", "<style scoped>\n", " .dataframe tbody tr th:only-of-type {\n", " vertical-align: middle;\n", " }\n", "\n", " .dataframe tbody tr th {\n", " vertical-align: top;\n", " }\n", "\n", " .dataframe thead th {\n", " text-align: right;\n", " }\n", "</style>\n", "<table border=\"1\" class=\"dataframe\">\n", " <thead>\n", " <tr style=\"text-align: right;\">\n", " <th></th>\n", " <th>sex</th>\n", " <th>age</th>\n", " <th>fare</th>\n", " <th>class</th>\n", " <th>who</th>\n", " <th>survived</th>\n", " </tr>\n", " </thead>\n", " <tbody>\n", " <tr>\n", " <th>0</th>\n", " <td>1</td>\n", " <td>22.0</td>\n", " <td>7.2500</td>\n", " <td>3</td>\n", " <td>1</td>\n", " <td>0</td>\n", " </tr>\n", " <tr>\n", " <th>1</th>\n", " <td>0</td>\n", " <td>38.0</td>\n", " <td>71.2833</td>\n", " <td>1</td>\n", " <td>0</td>\n", " <td>1</td>\n", " </tr>\n", " <tr>\n", " <th>2</th>\n", " <td>0</td>\n", " <td>26.0</td>\n", " <td>7.9250</td>\n", " <td>3</td>\n", " <td>0</td>\n", " <td>1</td>\n", " </tr>\n", " <tr>\n", " <th>3</th>\n", " <td>0</td>\n", " <td>35.0</td>\n", " <td>53.1000</td>\n", " <td>1</td>\n", " <td>0</td>\n", " <td>1</td>\n", " </tr>\n", " <tr>\n", " <th>4</th>\n", " <td>1</td>\n", " <td>35.0</td>\n", " <td>8.0500</td>\n", " <td>3</td>\n", " <td>1</td>\n", " <td>0</td>\n", " </tr>\n", " </tbody>\n", "</table>\n", "</div>" ], "text/plain": [ " sex age fare class who survived\n", "0 1 22.0 7.2500 3 1 0\n", "1 0 38.0 71.2833 1 0 1\n", "2 0 26.0 7.9250 3 0 1\n", "3 0 35.0 53.1000 1 0 1\n", "4 1 35.0 8.0500 3 1 0" ] }, "execution_count": 344, "metadata": {}, "output_type": "execute_result" } ], "source": [ "df.replace({'sex': {'female': 0,'male': 1}, 'who':{'man':1,'woman':0, 'child':2},'class': {'First': 1, 'Second': 2,'Third': 3},'alone': {'True':1, 'False':0}}, inplace=True)\n", "df.head()" ] }, { "cell_type": "code", "execution_count": 345, "metadata": {}, "outputs": [], "source": [ "target = df.survived\n", "inputs = df.loc[:, df.columns != 'survived']" ] }, { "cell_type": "code", "execution_count": 346, "metadata": { "id": "krO-0HnKveSf" }, "outputs": [], "source": [ "from sklearn.model_selection import train_test_split\n", "X_train, X_test, Y_train, Y_test = train_test_split(inputs,target,test_size=0.2) " ] }, { "cell_type": "markdown", "metadata": { "id": "oW7Qn40f_BeQ" }, "source": [ "# Gaussian Naive Bayes " ] }, { "cell_type": "code", "execution_count": 347, "metadata": { "id": "JTEYjgReveUj" }, "outputs": [], "source": [ "from sklearn.naive_bayes import GaussianNB\n", "model = GaussianNB()" ] }, { "cell_type": "code", "execution_count": 348, "metadata": { "colab": { "base_uri": "https://localhost:8080/" }, "id": "taoFeUBGveW8", "outputId": "4c12ba14-f58e-4de4-e80a-0821feebbc3f" }, "outputs": [ { "data": { "text/plain": [ "GaussianNB()" ] }, "execution_count": 348, "metadata": {}, "output_type": "execute_result" } ], "source": [ "model.fit(X_train, Y_train)" ] }, { "cell_type": "code", "execution_count": 349, "metadata": { "colab": { "base_uri": "https://localhost:8080/" }, "id": "7Cr2PLEHveZb", "outputId": "4f681959-8d5b-46dc-e9b6-2d4085a3102b" }, "outputs": [ { "data": { "text/plain": [ "0.776536312849162" ] }, "execution_count": 349, "metadata": {}, "output_type": "execute_result" } ], "source": [ "#model accuracy\n", "model.score(X_test, Y_test)" ] }, { "cell_type": "code", "execution_count": 350, "metadata": { "id": "tDii1idVx1MP" }, "outputs": [], "source": [ "Y_pred=model.predict(X_test)" ] }, { "cell_type": "code", "execution_count": 351, "metadata": { "colab": { "base_uri": "https://localhost:8080/" }, "id": "uYvFPInMJ8IV", "outputId": "6cd434da-14bf-42a0-9eaf-57ae81990235" }, "outputs": [ { "name": "stdout", "output_type": "stream", "text": [ "[0 0 0 1 0 0 1 1 1 0 0 1 0 0 0 1 0 0 0 0 1 0 0 0 0 0 1 0 0 1 1 0 0 0 1 1 1\n", " 0 1 0 0 0 0 0 0 1 1 0 0 0 0 0 0 0 0 0 1 0 0 1 1 0 0 0 0 1 1 0 0 1 0 0 0 0\n", " 0 0 0 1 0 1 0 1 0 0 1 0 1 0 0 1 1 0 0 1 1 0 0 1 0 1 0 0 1 1 1 0 0 1 1 1 0\n", " 0 0 1 0 0 0 0 0 0 0 0 0 0 0 0 0 0 0 1 0 0 0 0 1 0 0 0 0 0 1 1 0 0 0 1 0 1\n", " 1 1 0 0 1 0 0 0 0 1 0 1 0 1 0 1 0 1 1 1 0 0 1 0 0 0 0 1 1 1 1]\n" ] } ], "source": [ "print(Y_pred)" ] }, { "cell_type": "code", "execution_count": 352, "metadata": {}, "outputs": [], "source": [ "from sklearn.metrics import confusion_matrix\n", "cm=confusion_matrix(Y_test,Y_pred)" ] }, { "cell_type": "code", "execution_count": 353, "metadata": {}, "outputs": [ { "data": { "image/png": "iVBORw0KGgoAAAANSUhEUgAAAWgAAAFACAYAAACRGuaOAAAAOXRFWHRTb2Z0d2FyZQBNYXRwbG90bGliIHZlcnNpb24zLjQuMywgaHR0cHM6Ly9tYXRwbG90bGliLm9yZy/MnkTPAAAACXBIWXMAAAsTAAALEwEAmpwYAAAncUlEQVR4nO3dd5xU5dnG8d+1gAFEBRQQe8MWE9CosRIUNTFRsbckEkMkyaux9/gaTbOlaYoRYwxJDPauifoSW4wFC1YsUbGBgAgCghHW+/3jPKvjurszs0w5u3t9+ZzPzCnznHuWmXuec5+miMDMzPKnod4BmJlZy5ygzcxyygnazCynnKDNzHLKCdrMLKecoM3McsoJuoIknSHpr/WOoxok7SXpNUkLJG26FO08LWlE5SKrPUnbS3quyutYIGmdNuZPlbRTiW19Q9K/Sly23Z/hzvz5r5cumaAlbSfp35LekfS2pPskbVHvuJaWpMGSLpE0XdJ8Sc9KOlPSshVo/mfAERHRJyIea28jEfHpiLirAvF8jKS7JIWkoc2mX5+mjyixnZC0XlvLRMS9EbFB+6MtLv2dX0ox/UnSj6u5PsunLpegJS0P3Az8GugPrAqcCfy3nnE1J6lbmcv3B+4HegFbR8RywM5AX2DdCoS0JvB0BdqppueBQ5pGJK0IbAXMqtQKJHWvVFtmxXS5BA2sDxAREyKiMSIWRcTtEfFE0wKSvilpiqQ5km6TtGbBvPPTpv48SY9I2r5Z+z0lXZF6sI8W9ugkbZR6enPTpv4eBfP+JOlCSbdKehfYIW3GHi/pidTbv0JSz1be17HAfOBrETE1vcfXIuKopvcmaRtJk1JbkyRtU7D+uyT9KG1NzJd0u6SVJH1K0gKgG/C4pBfT8h/raRb28tLrbk7v821J90pqSPM+3DRPbf9K0rQ0/ErSp9K8EZJel3ScpJlpq+DQIv+3lwEHFPy4HQRcB7xfEOeWku5PsU2X9BtJy6R596TFHk8lhgMK4jhJ0pvApU3T0mvWTe9xszS+iqS3WuqxSzpU0k0F4/+RdGXB+GuShhX+fSWNBb4KnJhiuqmgyWElfjaax7E0n+FVJF0jaZaklyUd2co6ekr6q6TZ6W89SdKgUuKzj3TFBP080ChpvKRdJfUrnClpT+BUYG9gAHAvMKFgkUnAMLLe99+Aq5p9MUYBVxXMv15SD0k9gJuA24GBwPeAyyQVbiofDPwEWA5oqhnuD3wJWBv4LPCNVt7XTsC1EfFBSzOV9bBvAS4AVgR+AdyirJdZuP5DU3zLAMdHxH8jok+aPzQiSumNHwe8Tvb3G0T292zpmgLfJ+vhDgOGAlsCpxXMXxlYgWwrZwzw2+b/X81MA54BdknjhwB/brZMI3AMsBKwNTAS+B+AiBielhmaSgxXFMTRn2wrYmxhYxHxInAS2f9lb+BS4E+tlHHuBraX1CBpMNAD2BZAWb25D/BE4QsiYhzZD8+5KabdC2aX+tlorr2f4Qayz/DjZP8nI4GjJX2xhXWMJvu/W53s8/YdYFGJ8VnS5RJ0RMwDtiNLGBcDsyTdWPDr/m3grIiYEhFLgJ+S9VTWTK//a0TMjoglEfFz4FNAYZJ9JCKujojFZEmwJ1kS2orsC3h2RLwfEf8kK7UcVPDaGyLivoj4ICLeS9MuiIhpEfE22ZdjWCtvbUVgehtv/SvACxHxlxT7BOBZoPALf2lEPB8Ri4Ar21hXMYuBwcCaEbE41WxbStBfBX4YETMjYhZZqenrzdr5YWrjVmABH/9bt+TPwCHph69vRNxfODMiHomIB9LfYCpwEfCFIm1+APwg/Vh9IslExMXAC8CD6X1/v6VGUk15Ptnf9QvAbcAbkjZM4/e29gPbilI/G83jaO9neAtgQET8MH2GXyL7Dh3YwmoWk30m10tbqo+k756VocslaICUfL8REasBmwCrAL9Ks9cEzk+bZXOBtwGR9RhIm9xT0mblXLJewkoFzb9WsJ4PyHqSq6ThtWZfwFea2m3+2gJvFjxfSJbkWzKbLDm0ZpW0vkLN11/quoo5D/gPcLuklySdXGJMr6RpTWanH8lyYroW2JFsC+UvzWdKWj+VX96UNI/sB3il5ss1M6vgB7M1F5N9ln4dEW3tz7gbGAEMT8/vIkvOX0jj5WjX/9dSfIbXBFZp+m6k155KtpXU3F/IfoAuT+Wrc9NWpJWhSyboQhHxLPAnsi8XZB/Ob0dE34KhV0T8O9XqTiLbtOwXEX2Bd8gSeJPVm56kTcLVyDa9pwGrN9VikzWANwrDWYq38n/AXs3aLzSN7AtWqPn6y7EQ6F0wvnLTk4iYHxHHRcQ6ZD30YyWNLCGmNdK0douIhcDfge/SQoIGLiTbchgSEcuTJRi1sNzHmm1rpqQ+ZD/wlwBnpHJSa5oS9Pbp+d0UT9AVu+TkUn6GXwNebvbdWC4ivvyJgLOtnjMjYmNgG2A3CnbgWmm6XIKWtGHqQayWxlcnKzM8kBb5PXCKpE+n+StI2i/NWw5YQnZUQHdJpwPLN1vF5yTtrWxv/9FkR4c8QLb5+y7Zzp4eaSfS7sDlFXprv0ixjG8qx0haVdIvJH0WuBVYX9LBkrpLOgDYmKzM0h6TgYMldZP0JQrKBJJ2Szu4BMwjq/s2ttDGBOA0SQMkrQScDlTiONpTgS807SxtZrkU04JUWvhus/kzgFaPP27F+WRlgW+R1fl/38aydwM7AL0i4nWyfRxfIisHtHb4Yntias3SfIYfAuYp22HaK/3fb6IWDlGVtIOkzyjbYTuPrOTR0mfA2tDlEjRZDfDzwIPKjpZ4AHiKbMcWEXEdcA7Zptm8NG/X9NrbyHpnz5Ntjr/HJ8sSNwAHAHPI6ql7p97E+8Aeqa23gN8Bh6Qe/FJLdchtyL4ID0qaD0wk6x39JyJmk/VijiMrh5wI7BYRb7VzlUeR/cDMJaslX18wbwhZj34B2aF/v2tlp9mPgYfJdow9CTyapi2VVJdt7cSM48l2hs4nK0tc0Wz+GWQ/cnMl7V9sXZJGkSXY76RJxwKbSfpqK7E9T/Z3uTeNzwNeAu6LiNYS2CXAximm64vFVMTSfIYbyf7PhwEvk32O/0BWImluZeBqsuQ8heyHySexlEkt77sxM7N664o9aDOzDsEJ2swsp5ygzcxyygnazCynnKDNzHLKCdrMLKecoM3McsoJ2swsp5ygzcxyygnazCynnKDNzHLKCdrMLKecoM3McsoJ2swsp5ygzcxyygnazCynnKDNzHLKCdrMLKecoM3McsoJ2swsp5ygzcxyygnazCynnKDNzHLKCdrMLKecoM3McsoJ2swsp5ygzcxyygnazCynnKDNzHLKCdrMLKecoM3McsoJ2swsp5ygzcxyygnazCynnKDNzHKqe70DaE2vTY+Iesdg+TNn0m/qHYLlUM/uaGnbKCfnLHrsN0u9vlLkNkGbmdVUQ7d6R/AJLnGYmQGoofShWFPSUZKekvS0pKPTtP6S7pD0QnrsV6wdJ2gzMwCp9KHNZrQJcBiwJTAU2E3SEOBkYGJEDAEmpvE2OUGbmUEle9AbAQ9ExMKIWALcDewFjALGp2XGA3sWa8gJ2swMyupBSxor6eGCYWxBS08BwyWtKKk38GVgdWBQREwHSI8Di4XknYRmZlBSbblJRIwDxrUyb4qkc4A7gAXA48CS9oTkHrSZGWRHcZQ6FBERl0TEZhExHHgbeAGYIWkwQHqcWTSkpXxLZmadQ4V2EmZNaWB6XAPYG5gA3AiMTouMBm4o1o5LHGZmUFaJowTXSFoRWAwcHhFzJJ0NXClpDPAqsF+xRpygzcygpJ5xqSJi+xamzQZGltOOE7SZGVS6B10RTtBmZuAEbWaWW93ydy0OJ2gzM6hoDbpSnKDNzMAlDjOz3HIP2swsp9yDNjPLqRxesN8J2swMXOIwM8stlzjMzHLKPWgzs5xyD9rMLKecoM3McspHcZiZ5ZRr0GZmOeUSh5lZTrkHbWaWT3KCNjPLJzXkL0Hnr+hiZlYHkkoeSmjrGElPS3pK0gRJPSX1l3SHpBfSY79i7ThBm5lRuQQtaVXgSGDziNgE6AYcCJwMTIyIIcDENN4mJ2gzMyrbgyYrH/eS1B3oDUwDRgHj0/zxwJ7FGnGCNjOjvAQtaaykhwuGsU3tRMQbwM+AV4HpwDsRcTswKCKmp2WmAwOLxeSdhGZmAGXsI4yIccC4FpvJasujgLWBucBVkr7WnpCcoM3MgIaGihUUdgJejohZAJKuBbYBZkgaHBHTJQ0GZhaNqVIRmZl1ZBWsQb8KbCWpt7KFRwJTgBuB0WmZ0cANxRpyD9rMjMqdqBIRD0q6GngUWAI8RlYO6QNcKWkMWRLfr1hbTtBmZlBWDbqYiPgB8INmk/9L1psumRO0mRk+1dvMLLecoM3MciqP1+JwgjYzwz1oM7PcymOCrupx0Ok4wP+VdHEaHyJpt2qu08ysPSp8LY6KqPaJKpeSHVqydRp/HfhxlddpZla2rpig142Ic4HFABGxiIoebWhmVhlqUMlDrVS7Bv2+pF5AAEhal6xHbWaWK3msQVc7Qf8A+AewuqTLgG2Bb1R5nWZmZetyCToi7pD0KLAVWWnjqIh4q5rrNDNrl/zl56ofxbEt8F5E3AL0BU6VtGY119nRHX7QCB6+6lQeufr7HHHwCAB+evSeTL72NB664hSu+PlhrNCnV32DtJo7/bRTGLH91uw96pMHQY2/9BKGfnoD5sx5uw6RdR5dcSfhhcBCSUOBE4BXgD9XeZ0d1sbrDubQvbdh+6+fx5YHnMWuwzdh3TUGMPGBZ/ncfj9lywPO4oVXZnLCN3epd6hWY6P23JsLL/rDJ6a/OX069//73wwevEodoupcumKCXhIRQXZ3gQsi4nxguSqvs8PacO2VeejJqSx6bzGNjR9w7yP/YdQOQ5n4wLM0Nn4AwENPvsyqg/rWN1Cruc9tvgXLr7DCJ6afd85ZHHPcCbmsn3Y0DQ0NJQ81i6nK7c+XdArwNeAWSd2AHlVeZ4f19IvT2G6z9ei/wrL06tmDL233aVZb+eN3Zj9k1Nbcdt8zdYrQ8uSuf05k4KCBbLDhhvUOpXNQGUONVPsojgOAg4ExEfGmpDWA81pbON14cSxA99VG0H2lT1c5vHx57uUZ/PxPd3DzhUfw7qL/8sTzb7BkSeOH808c80UaGz/g8lsn1TFKy4NFixZx8bjf8/uL/1jvUDqNPG6FVPsojjeBXxSMv0obNejCGzH22vSIqGZseTX++vsZf/39AJx5xO68MWMuAF/d/fN8efgm7PrtC+oYneXF66+9yhtvvM7+e48CYMaMNzlw37257PKrWGnAgDpH1zF1mQQtaT7p5JTms4CIiOWrsd7OYEC/Psyas4DVV+7HqB2HMmL0z9l5m4047hs7scu3zmfRe4vrHaLlwJD1N+Cue+//cHzXnXfkb1deTb9+/esYVceWw/xcnQQdEd4R2E4TfvYt+vddlsVLGjn67CuZO38Rvzxpfz61THduvvAIAB56cipH/uTyOkdqtXTS8cfy8KSHmDt3DjvvOJzvHv499t6n6C3trAx57EErO8iiyiuRBgI9m8ZTqaNNXbXEYW2bM+k39Q7Bcqhn96XfdbfBSbeVnHOeO+eLra5P0gbAFQWT1gFOJyvvXgGsBUwF9o+IOW2tp9onquwh6QXgZeDuFNTfq7lOM7P2kEof2hIRz0XEsIgYBnwOWAhcB5wMTIyIIcDENN6mah9m9yOy07yfj4i1ye5oe1+V12lmVraGBpU8lGEk8GJEvEJ2Psj4NH08sGfRmMp9E2VaHBGzgQZJDRFxJzCsyus0MytbOT1oSWMlPVwwjG2l2QOBCen5oIiYDpAeBxaLqdrHQc+V1Ae4B7hM0kxgSZXXaWZWtnJ2EhYeEtxGe8sAewCntDemqvSg0wkpkHXpFwLHkF129EVg92qs08xsaVShxLEr8GhEzEjjMyQNBkiPM4vG1K53Utz1ABHxLnBVRCyJiPERcUEqeZiZ5UoVLpZ0EB+VNwBuBEan56OBG4o1UK0EXfgO1qnSOszMKqZSR3Fkbak3sDNwbcHks4Gd05FtO6fxNlWrBh2tPDczy6VKnqgSEQuBFZtNm012VEfJqpWgh0qaR9aT7pWeg0/1NrOcyuGJhFU71btbNdo1M6uWPJ7qXe3D7MzMOoQyT0CpCSdoMzO6UInDzKyjcYnDzCyncpifnaDNzMA9aDOz3MphfnaCNjMDH8VhZpZbLnGYmeVUHhN00YslSTpX0vKSekiaKOktSV+rRXBmZrVSyYslVUopV7PbJSLmAbsBrwPrAydUNSozsxqrwuVGl1opJY4e6fHLwISIeDuPmwJmZkujo+4kvEnSs8Ai4H8kDQDeq25YZma1lcd+Z9EEHREnSzoHmBcRjZIWkt3Kysys02jIYYYuZSdhb+Bw4MI0aRVg82oGZWZWax11J+GlwPvANmn8deDHVYvIzKwO8riTsJQEvW5EnAssBoiIRXz8noNmZh1eg0ofipHUV9LVkp6VNEXS1pL6S7pD0gvpsV/RmEqI+31JvUj3FpS0LvDfEl5nZtZhNDSo5KEE5wP/iIgNgaHAFOBkYGJEDAEmpvG2YyphRT8A/gGsLumy1PCJpURoZtZRqIx/bbYjLQ8MBy4BiIj3I2Iu2cEV49Ni44E9i8VUylEcd0h6FNiKrLRxVES8Vex1ZmYdSQUPg14HmAVcKmko8AhwFDAoIqYDRMR0SQOLxlRsAUnDgU8D84F5wMZpmplZp1HOTkJJYyU9XDCMLWiqO7AZcGFEbAq8SwnljJaUcqJK4WndPYEtyX4RdmzPCs3M8qicgzMiYhwwrpXZrwOvR8SDafxqsgQ9Q9Lg1HseDMwstp5SShy7F45LWh04t9jrzMw6km4VqnFExJuSXpO0QUQ8B4wEnknDaODs9HhDsbbac7nR14FN2vE6M7PcqvDxzd8DLpO0DPAScChZSflKSWOAV4H9ijVSNEFL+jXpELu0gmHA4+2L2cwsnyqZnyNiMi2fcT2ynHZK6UE/XPB8CdkV7e4rZyVmZnmXx2txlFKDHl9sGTOzji5/6bmNBC3pST4qbXxsFhAR8dmqRWVmVmN5vM59Wz3o3WoWhZlZnVXqKI5KajVBR8QrtQzEzKyectiBLulMwq0kTZK0QNL7kholzatFcGZmtZLHy42WchTHb4ADgavIDhs5BFivmkGZmdVaDiscpZ2oEhH/kdQtIhrJLgDy7yrHZWZWUx1tJ2GThelsmMmSzgWmA8tWNywzs9rKX3puowYtqeksmK+n5Y4guyrT6sA+1Q/NzKx2ujWo5KFW2upBXyypDzABuDwingHOrE1YZma1lccSR6s96HQd092ARuBqSZMlnSRpzZpFZ2ZWIx3urt4R8VxEnBkRG5NdHq8v8E9JvhaHmXUqDVLJQ62UdBSHpAZgIDCIbAfhrGoGZWZWazmscLSdoCVtDxxEdnPDp4DLgWMi4p1qB/b4331PAPukX//rpXqHYDl0woh1lrqNbjnM0G1dLOk1sotKXw6cGREzahaVmVmN5XEnYVs96O18PQ4z6yo61JmETs5m1pV0qARtZtaVdLQSh5lZl1HJHrSkqcB8svNIlkTE5pL6A1cAawFTgf0jYk5b7bS1k7DwZrGfEBFHlh21mVlOVeEU7h0i4q2C8ZOBiRFxtqST0/hJbTXQVg/64TbmmZl1KkUvjr/0RgEj0vPxwF20N0H7ZrFm1pVUuAQdwO2SArgoIsYBgyJiOkBETJc0sFgjRWvQkgaQZfmNgZ4frj1ix/ZGbmaWN+Wcwi1pLDC2YNK4lISbbBsR01ISvkPSs+2JqZSdhJeRFba/AnyH7JocPtXbzDqVcnrQKRmPa2P+tPQ4U9J1wJbADEmDU+95MDCz2HpKKbusGBGXAIsj4u6I+CawVUnvwsysg2hQ6UNbJC0rabmm58AuZJfKuJGsg0t6vKFYTKX0oBenx+mSvgJMA1Yr4XVmZh1GBY/iGARcl46r7g78LSL+IWkScKWkMWSX0divWEOlJOgfS1oBOA74NbA8cEx7Izczy6NK5eeIeAkY2sL02cDIctoqmqAj4ub09B1gh3IaNzPrKJTDuxKWchTHpbRwwkqqRZuZdQod9VocNxc87wnsRVaHNjPrNDpkgo6IawrHJU0A/q9qEZmZ1UEt79ZdqvZcLGkIsEalAzEzq6ccXsyupBr0fD5eg36TIuePm5l1NLW8GWypSilxLFeLQMzM6imHFY7iZxJKmljKNDOzjkwqfaiVtq4H3RPoDawkqR98eJDg8sAqNYjNzKxmGjrYcdDfBo4mS8aP8FGCngf8trphmZnVVrcaXBC6XG1dD/p84HxJ34uIX9cwJjOzmsvjTsJSfjM+kNS3aURSP0n/U72QzMxqL4816FIS9GERMbdpJN3k8LCqRWRmVgcNUslDrZRyokqDJEVEAEjqBixT3bDMzGorhxWOkhL0bWTXMP092Qkr3wH+UdWozMxqLIf7CEtK0CeR3Xvru2RHctwOXFzNoMzMaq1D7iSMiA8i4vcRsW9E7AM8TXbhfjOzTqOj1qCRNAw4CDgAeBm4tooxmZnVXP76z22fSbg+cCBZYp5NdmdvRYTvqmJmnU4OKxxtljieJbt/1u4RsV06WaWxNmGZmdWWpJKHEtvrJukxSTen8f6S7pD0QnrsV6yNthL0PmSXFr1T0sWSRpLPrQAzs6XWTSp5KNFRwJSC8ZOBiRExBJiYxtvUaoKOiOsi4gBgQ+Ausjt5D5J0oaRdSo3QzKwjUBlD0bak1YCvAH8omDwKGJ+ejwf2LNZOKUdxvBsRl0XEbsBqwGRKyPxmZh1JhUscvwJOBD4omDYoIqYDpMeBxRop69jsiHg7Ii6KiB3LeZ2ZWd41lDFIGivp4YJhbFM7knYDZkbEI0sbU3vuSWhm1umUuvMPICLGAeNamb0tsIekLwM9geUl/RWYIWlwREyXNBiYWWw9eTy70cys5ipVg46IUyJitYhYi+xQ5X9GxNeAG4HRabHRwA3FYnIP2swMyjk6o73OJruu0RjgVWC/Yi9wgjYzozonqkTEXWRHwRERs8nOLSmZE7SZGaAcnubhBG1mRj5P9XaCNjOj493V28ysy2jI4TFtVQtJma9JOj2NryFpy2qtz8xsaaiMf7VSzd+M3wFbk12uFGA+8Nsqrs/MrN0aVPpQK9UscXw+IjaT9BhkdwOX5JvNmlkudbWjOBanO4A33Q18AB+/cIiZWW50taM4LgCuAwZK+gmwL3BaFdfXKcya+Sa//Mn/Muft2ahBfGn3fdhj34MBuOmaCdxy3RU0dOvGFlttz6HfPbq+wVpNffBBIzf89Eh6912JLx5xJhPHncU7M14H4P1FC1imVx/2/l9XEdurS/WgI+IySY+QnTkjYM+ImFLkZV1et27d+Obhx7Le+huxcOG7HHPYwQzb/PPMffttHrzvLn79xyvpscwyzJ3zdr1DtRp7euIN9F15Dd5/byEAI8ee8uG8B666mGV69a5XaJ1CDU71Lls1j+JYA1gI3ER2kZB30zRrQ/8VB7De+hsB0Lv3sqy+5trMnjWLW2+4in0PPpQey2Rl/L79+tczTKuxd+fM4rUnH2KD7b74iXkRwcuP3MO6W4yofWCdiFT6UCvVPIrjFuDm9DgReAn4exXX1+nMmD6NF194jg023oRpr7/C0088xnHf+TonHzmG56c8Xe/wrIbuv/IittxnDOiTX9k3X3iKXsv1Y4VBq9Yhss6jkndUqZSqJeiI+ExEfDY9DgG2BP5VrfV1NosWLuSs04/nsO8dT+9l+9DY2MiC+fP42YV/5pvfPYZzzjiRiKh3mFYDrz7xIL2W68tKaw5pcf6Lk+5inS2/UOOoOp8GqeShZjHVakUR8SiwRVvLFN6l4Iq//LFGkeXPkiWLOev04xmx065sMzy7+NVKAwaxzfCRSGL9jTahoaGBee/MqXOkVgszXnyGVx5/gMtPHc2dfzibac8+zp2XnAvAB42NTH3s36y7+fA6R9nx5bEHXbWdhJKOLRhtADYDZrX1msK7FDz/5sIu2T2MCC4450xWX3Nt9jzg6x9O32q7ETz+6EN8ZtPNeeO1V1iyeDHLr1D0ru3WCWyx16FssdehAEx77gmevOMadhhzIgBvTHmMviuvxrL9BtQzxM4hf/sIq3qY3XIFz5eQ1aKvqeL6OoVnnpzMnbffwlrrDOHIMQcAcMhhR7DTl/fkgnPO4PBv7Ev37j04+tQflnWLHuucXnr4bu8crJBali5KpWrUMdMJKmdHxAntbaOr9qCtbTc8+2a9Q7AcOmHEOkudXSe99E7JOWeLdVaoSTaveA9aUveIWCJps0q3bWZWNfnrQFelxPEQWb15sqQbgauAd5tmRsS1VVinmdlS6VJnEgL9gdnAjmTX41B6dII2s9ypVAlaUk/gHuBTZDn26oj4gaT+wBXAWsBUYP+IaPNQrGok6IHpCI6n+CgxN3Fd2cxyqYL7CP8L7BgRCyT1AP4l6e/A3sDEiDhb0snAycBJbTVUjQTdDehDyxUdJ2gzy6VKlTgiO/JiQRrtkYYARgEj0vTxZHf7rnmCnh4RP6xCu2ZmVVPJo+zSkWyPAOsBv42IByUNiojpABExXdLAYu1U40zC/FXazcyKKOdMwsKzntMwtrCtiGiMiGHAasCWkjZpT0zV6EGPrEKbZmbVVUbXsvCs5yLLzZV0F/AlYIakwan3PBiYWez1Fe9BR4QvVGxmHU6lbhoraYCkvul5L2An4Fmyyy6PTouNBm4oFlM1D7MzM+swKngz2MHA+FSHbgCujIibJd0PXClpDPAqsF+xhpygzcygYnvPIuIJYNMWps+mzBKwE7SZGV3vTEIzsw4jhxezc4I2M4N8Hh/sBG1mBrnM0E7QZmbk84L9TtBmZuSyA+0EbWYG5DJDO0GbmeHD7MzMciuHJWgnaDMzcII2M8stlzjMzHLKPWgzs5zKYX52gjYzA3KZoZ2gzcxwDdrMLLcqeMH+inGCNjPDOwnNzHIsfxnaCdrMjHz2oCt+V28zs45IZQxttiOtLulOSVMkPS3pqDS9v6Q7JL2QHvsVi8kJ2syMrAdd6lDEEuC4iNgI2Ao4XNLGwMnAxIgYAkxM421ygjYzAySVPLQlIqZHxKPp+XxgCrAqMAoYnxYbD+xZLCYnaDMzyitxSBor6eGCYWyLbUprAZsCDwKDImI6ZEkcGFgsJu8kNDOjvJ2EETEOGNd2e+oDXAMcHRHzivW8W+IetJkZ2ZmEpf4r2pbUgyw5XxYR16bJMyQNTvMHAzOLteMEbWYGFTuMQ1lX+RJgSkT8omDWjcDo9Hw0cEOxkFziMDOjoqd6bwt8HXhS0uQ07VTgbOBKSWOAV4H9ijXkBG1mRuUulhQR/6L1fvbIctpygjYzw2cSmplZGdyDNjMjnz1oJ2gzM3zBfjOz3PIF+83M8soJ2swsn1ziMDPLKe8kNDPLqRzmZydoMzMglxnaCdrMDGjIYY1DEVHvGKwISWPT9WfNPuTPRefnU707hhbv1mBdnj8XnZwTtJlZTjlBm5nllBN0x+A6o7XEn4tOzjsJzcxyyj1oM7OccoI2M8spn6hSJ5IagScLJu0ZEVNbWXZBRPSpSWBWV5JWBCam0ZWBRmBWGt8yIt6vS2BWF65B10k5SdcJumuSdAawICJ+VjCte0QsqV9UVksuceSEpD6SJkp6VNKTkka1sMxgSfdImizpKUnbp+m7SLo/vfYqSU7mnYikP0n6haQ7gXMknSHp+IL5T0laKz3/mqSH0mfkIknd6hW3LT0n6Prplb5EkyVdB7wH7BURmwE7AD+XPnFxgIOB2yJiGDAUmCxpJeA0YKf02oeBY2v2LqxW1if7Pz6utQUkbQQcAGybPiONwFdrE55Vg2vQ9bMofYkAkNQD+Kmk4cAHwKrAIODNgtdMAv6Ylr0+IiZL+gKwMXBfyufLAPfX5i1YDV0VEY1FlhkJfA6YlD4LvYCZ1Q7MqscJOj++CgwAPhcRiyVNBXoWLhAR96QE/hXgL5LOA+YAd0TEQbUO2Grq3YLnS/j41m/T50TA+Ig4pWZRWVW5xJEfKwAzU3LeAViz+QKS1kzLXAxcAmwGPABsK2m9tExvSevXMG6rvalk//dI2gxYO02fCOwraWCa1z99ZqyDcg86Py4DbpL0MDAZeLaFZUYAJ0haDCwADomIWZK+AUyQ9Km03GnA81WP2OrlGuAQSZPJyl7PA0TEM5JOA26X1AAsBg4HXqlXoLZ0fJidmVlOucRhZpZTTtBmZjnlBG1mllNO0GZmOeUEbWaWU07QZmY55QRtZpZTTtBmZjnlBG1mllNO0GZmOeUEbWaWU07QZmY55QRtZpZTTtBmZjnlBG1mllNO0GZmOeUEbR8jqTHdafwpSVdJ6r0Ubf1J0r7p+R8kbdzGsiMkbdOOdUxNdzZvvt5vN5u2p6RbS4nVLC+coK25RRExLCI2Ad4HvlM4U1K39jQaEd+KiGfaWGQEUHaCbsUE4MBm0w5M0806DCdoa8u9wHqpd3unpL8BT0rqJuk8SZMkPdHUW1XmN5KekXQLMLCpIUl3Sdo8Pf+SpEclPS5poqS1yH4Ijkm99+0lDZB0TVrHJEnbpteuKOl2SY9JuojsTtbN/R+woaTB6TW9gZ2A6yWdntp7StI4SZ94fWGvXNLmku5Kz5eV9Mf0+sckjUrTPy3poRT7E5KGVOKPb+YEbS2S1B3YFXgyTdoS+H5EbAyMAd6JiC2ALYDDJK0N7AVsAHwGOIwWesSSBgAXA/tExFBgv4iYCvwe+GXqvd8LnJ/GtwD2Af6QmvgB8K+I2BS4EVij+ToiohG4Ftg/TdoDuDMi5gO/iYgt0hZCL2C3Mv4s3wf+mWLaAThP0rJkPy7nR8QwYHPg9TLaNGuV7+ptzfVKd4uGrAd9CVmifSgiXk7TdwE+W1CzXQEYAgwHJqQEOU3SP1tofyvgnqa2IuLtVuLYCdi4oIO7vKTl0jr2Tq+9RdKcVl4/ATiPLNEfCPw5Td9B0olAb6A/8DRwUyttNLcLsIek49N4T7IfiPuB70taDbg2Il4osT2zNjlBW3OLUk/wQylJvls4CfheRNzWbLkvA8VuE68SloFs627riFjUQiylvP4+YLCkoWQ/MAdK6gn8Dtg8Il6TdAZZkm1uCR9tXRbOF1nP/7lmy0+R9CDwFeA2Sd+KiJZ+nMzK4hKHtcdtwHcl9QCQtH7a1L+HLBF2S/XfHVp47f3AF1JJBEn90/T5wHIFy90OHNE0ImlYenoP8NU0bVegX0sBRkQAVwLjgVsj4j0+SrZvSeoDtHbUxlTgc+n5Ps3e9/ea6taSNk2P6wAvRcQFZGWXz7bSrllZnKCtPf4APAM8Kukp4CKyrbHrgBfI6tYXAnc3f2FEzALGAtdKehy4Is26CdiraSchcCSwedrp9gwfHU1yJjBc0qNkJYdX24hzAjAUuDytey5Z/ftJ4HpgUiuvOxM4X9K9QGPB9B8BPYAn0vv+UZp+APBUKg1tyEflFLOloqyjYWZmeeMetJlZTjlBm5nllBO0mVlOOUGbmeWUE7SZWU45QZuZ5ZQTtJlZTjlBm5nl1P8DMROSe+ts8W0AAAAASUVORK5CYII=", "text/plain": [ "<Figure size 432x288 with 2 Axes>" ] }, "metadata": { "needs_background": "light" }, "output_type": "display_data" } ], "source": [ "##Confusion matrix\n", "import seaborn as sns\n", "\n", "ax = sns.heatmap(cm, annot=True, cmap='Blues')\n", "\n", "ax.set_title('Seaborn Confusion Matrix with labels\\n\\n');\n", "ax.set_xlabel('\\nPredicted Values')\n", "ax.set_ylabel('Actual Values ');\n", "\n", "## Ticket labels - List must be in alphabetical order\n", "ax.xaxis.set_ticklabels(['False','True'])\n", "ax.yaxis.set_ticklabels(['False','True'])\n", "\n", "## Display the visualization of the Confusion Matrix.\n", "plt.show()" ] }, { "cell_type": "code", "execution_count": 354, "metadata": {}, "outputs": [ { "name": "stdout", "output_type": "stream", "text": [ "0.7014925373134328\n" ] } ], "source": [ "##F1 score\n", "Precision = (metrics.precision_score(Y_test, Y_pred))\n", "Recall = (metrics.recall_score(Y_test, Y_pred))\n", "F1 = 2 * (Precision * Recall) / (Precision + Recall)\n", "print (F1)" ] }, { "cell_type": "code", "execution_count": 355, "metadata": { "colab": { "base_uri": "https://localhost:8080/" }, "id": "KAkLmK7zved1", "outputId": "ae26fd26-230b-4d5d-b4b7-1afaee652bc7" }, "outputs": [ { "data": { "text/plain": [ "array([[9.61197199e-01, 3.88028009e-02],\n", " [9.85394221e-01, 1.46057787e-02],\n", " [9.57052671e-01, 4.29473290e-02],\n", " [2.26320976e-01, 7.73679024e-01],\n", " [9.68283944e-01, 3.17160561e-02],\n", " [8.15707800e-01, 1.84292200e-01],\n", " [2.00460765e-01, 7.99539235e-01],\n", " [1.97658571e-01, 8.02341429e-01],\n", " [1.94248293e-01, 8.05751707e-01],\n", " [9.10959130e-01, 8.90408702e-02],\n", " [8.93747232e-01, 1.06252768e-01],\n", " [9.95743783e-02, 9.00425622e-01],\n", " [9.85464829e-01, 1.45351708e-02],\n", " [9.79141303e-01, 2.08586972e-02],\n", " [8.05423122e-01, 1.94576878e-01],\n", " [9.68248574e-14, 1.00000000e+00],\n", " [9.83498194e-01, 1.65018063e-02],\n", " [9.84805567e-01, 1.51944326e-02],\n", " [9.85772798e-01, 1.42272021e-02],\n", " [8.81776033e-01, 1.18223967e-01],\n", " [1.00645594e-01, 8.99354406e-01],\n", " [9.85965061e-01, 1.40349387e-02],\n", " [9.84566831e-01, 1.54331693e-02],\n", " [9.86598823e-01, 1.34011766e-02],\n", " [8.92976361e-01, 1.07023639e-01],\n", " [8.90533316e-01, 1.09466684e-01],\n", " [1.87442161e-01, 8.12557839e-01],\n", " [9.82988306e-01, 1.70116943e-02],\n", " [9.85998138e-01, 1.40018618e-02],\n", " [2.20670135e-09, 9.99999998e-01],\n", " [3.93997647e-03, 9.96060024e-01],\n", " [9.83720500e-01, 1.62795004e-02],\n", " [9.81850678e-01, 1.81493223e-02],\n", " [9.82794154e-01, 1.72058456e-02],\n", " [1.43632855e-01, 8.56367145e-01],\n", " [9.90608157e-02, 9.00939184e-01],\n", " [1.74698988e-01, 8.25301012e-01],\n", " [9.85480514e-01, 1.45194860e-02],\n", " [1.92535144e-06, 9.99998075e-01],\n", " [9.83516525e-01, 1.64834748e-02],\n", " [9.55693256e-01, 4.43067444e-02],\n", " [9.66851938e-01, 3.31480617e-02],\n", " [9.70231581e-01, 2.97684185e-02],\n", " [9.81812908e-01, 1.81870921e-02],\n", " [9.85964119e-01, 1.40358814e-02],\n", " [1.64386568e-01, 8.35613432e-01],\n", " [4.32157533e-06, 9.99995678e-01],\n", " [9.85135782e-01, 1.48642179e-02],\n", " [9.65824367e-01, 3.41756332e-02],\n", " [9.85640817e-01, 1.43591834e-02],\n", " [9.86239054e-01, 1.37609458e-02],\n", " [9.64906824e-01, 3.50931759e-02],\n", " [8.03790132e-01, 1.96209868e-01],\n", " [9.84560660e-01, 1.54393397e-02],\n", " [9.85358602e-01, 1.46413979e-02],\n", " [9.84820835e-01, 1.51791653e-02],\n", " [1.97219608e-01, 8.02780392e-01],\n", " [9.68718482e-01, 3.12815185e-02],\n", " [9.85500194e-01, 1.44998062e-02],\n", " [8.80458330e-02, 9.11954167e-01],\n", " [1.65563230e-01, 8.34436770e-01],\n", " [9.81938894e-01, 1.80611057e-02],\n", " [9.85611563e-01, 1.43884369e-02],\n", " [8.90490640e-01, 1.09509360e-01],\n", " [9.68666973e-01, 3.13330271e-02],\n", " [1.03953124e-01, 8.96046876e-01],\n", " [1.94671318e-01, 8.05328682e-01],\n", " [9.65954345e-01, 3.40456555e-02],\n", " [9.85550463e-01, 1.44495367e-02],\n", " [4.14966941e-16, 1.00000000e+00],\n", " [9.85461554e-01, 1.45384462e-02],\n", " [9.69232763e-01, 3.07672368e-02],\n", " [9.85391010e-01, 1.46089896e-02],\n", " [9.83964357e-01, 1.60356431e-02],\n", " [9.85461554e-01, 1.45384462e-02],\n", " [9.83838758e-01, 1.61612424e-02],\n", " [9.51551380e-01, 4.84486195e-02],\n", " [2.27160018e-04, 9.99772840e-01],\n", " [8.71341961e-01, 1.28658039e-01],\n", " [3.01894764e-01, 6.98105236e-01],\n", " [9.86054760e-01, 1.39452404e-02],\n", " [1.04724391e-01, 8.95275609e-01],\n", " [9.63731853e-01, 3.62681473e-02],\n", " [9.85391010e-01, 1.46089896e-02],\n", " [1.02726920e-01, 8.97273080e-01],\n", " [9.85500194e-01, 1.44998062e-02],\n", " [1.05799064e-01, 8.94200936e-01],\n", " [9.83720500e-01, 1.62795004e-02],\n", " [8.73969575e-01, 1.26030425e-01],\n", " [1.07924701e-13, 1.00000000e+00],\n", " [1.01086861e-01, 8.98913139e-01],\n", " [9.30764703e-01, 6.92352974e-02],\n", " [9.85660025e-01, 1.43399745e-02],\n", " [3.83300776e-03, 9.96166992e-01],\n", " [1.80445548e-01, 8.19554452e-01],\n", " [9.85776479e-01, 1.42235206e-02],\n", " [8.93265090e-01, 1.06734910e-01],\n", " [2.80789574e-02, 9.71921043e-01],\n", " [9.83129492e-01, 1.68705084e-02],\n", " [2.99271981e-04, 9.99700728e-01],\n", " [9.86012913e-01, 1.39870872e-02],\n", " [8.70912108e-01, 1.29087892e-01],\n", " [1.65921449e-01, 8.34078551e-01],\n", " [2.83501402e-02, 9.71649860e-01],\n", " [1.27561457e-02, 9.87243854e-01],\n", " [9.86083626e-01, 1.39163739e-02],\n", " [9.51707725e-01, 4.82922748e-02],\n", " [1.94689284e-01, 8.05310716e-01],\n", " [3.01354172e-07, 9.99999699e-01],\n", " [1.97716583e-01, 8.02283417e-01],\n", " [9.83080973e-01, 1.69190272e-02],\n", " [8.64391429e-01, 1.35608571e-01],\n", " [9.86032950e-01, 1.39670504e-02],\n", " [1.26119451e-02, 9.87388055e-01],\n", " [9.47832677e-01, 5.21673228e-02],\n", " [9.85480514e-01, 1.45194860e-02],\n", " [8.58192157e-01, 1.41807843e-01],\n", " [9.86047595e-01, 1.39524052e-02],\n", " [9.37611235e-01, 6.23887647e-02],\n", " [9.83816860e-01, 1.61831402e-02],\n", " [9.83761824e-01, 1.62381759e-02],\n", " [8.88697867e-01, 1.11302133e-01],\n", " [9.69163749e-01, 3.08362506e-02],\n", " [9.69478491e-01, 3.05215090e-02],\n", " [9.83534572e-01, 1.64654285e-02],\n", " [9.85211891e-01, 1.47881088e-02],\n", " [9.83051743e-01, 1.69482570e-02],\n", " [8.76978671e-01, 1.23021329e-01],\n", " [8.94531325e-01, 1.05468675e-01],\n", " [1.31480845e-01, 8.68519155e-01],\n", " [9.86192908e-01, 1.38070920e-02],\n", " [9.84093328e-01, 1.59066724e-02],\n", " [9.86038460e-01, 1.39615396e-02],\n", " [9.69324484e-01, 3.06755158e-02],\n", " [2.91170200e-03, 9.97088298e-01],\n", " [9.85010748e-01, 1.49892524e-02],\n", " [8.68103344e-01, 1.31896656e-01],\n", " [9.84381438e-01, 1.56185623e-02],\n", " [9.82217520e-01, 1.77824799e-02],\n", " [5.03948141e-01, 4.96051859e-01],\n", " [8.18937201e-02, 9.18106280e-01],\n", " [1.71376635e-01, 8.28623365e-01],\n", " [9.83439880e-01, 1.65601199e-02],\n", " [9.70536813e-01, 2.94631874e-02],\n", " [9.62949238e-01, 3.70507619e-02],\n", " [2.96826256e-04, 9.99703174e-01],\n", " [9.85458268e-01, 1.45417318e-02],\n", " [4.69918001e-16, 1.00000000e+00],\n", " [2.78991674e-04, 9.99721008e-01],\n", " [3.18314635e-01, 6.81685365e-01],\n", " [9.85553626e-01, 1.44463744e-02],\n", " [9.84894684e-01, 1.51053165e-02],\n", " [1.54308923e-02, 9.84569108e-01],\n", " [9.85666766e-01, 1.43332343e-02],\n", " [9.62618219e-01, 3.73817815e-02],\n", " [9.85434415e-01, 1.45655855e-02],\n", " [8.18606556e-01, 1.81393444e-01],\n", " [9.64603108e-02, 9.03539689e-01],\n", " [9.85461554e-01, 1.45384462e-02],\n", " [1.88150751e-01, 8.11849249e-01],\n", " [9.66143070e-01, 3.38569305e-02],\n", " [3.23821905e-01, 6.76178095e-01],\n", " [9.85461554e-01, 1.45384462e-02],\n", " [2.00508553e-01, 7.99491447e-01],\n", " [9.85263633e-01, 1.47363667e-02],\n", " [3.67119295e-03, 9.96328807e-01],\n", " [9.79721948e-02, 9.02027805e-01],\n", " [1.89622575e-01, 8.10377425e-01],\n", " [9.67210020e-01, 3.27899798e-02],\n", " [8.65594636e-01, 1.34405364e-01],\n", " [2.15944081e-05, 9.99978406e-01],\n", " [9.64906824e-01, 3.50931759e-02],\n", " [8.42730475e-01, 1.57269525e-01],\n", " [9.85480514e-01, 1.45194860e-02],\n", " [9.85935831e-01, 1.40641686e-02],\n", " [1.94248293e-01, 8.05751707e-01],\n", " [1.93480634e-01, 8.06519366e-01],\n", " [3.51264743e-01, 6.48735257e-01],\n", " [7.43393142e-02, 9.25660686e-01]])" ] }, "execution_count": 355, "metadata": {}, "output_type": "execute_result" } ], "source": [ "##survival probablity \n", "model.predict_proba(X_test)" ] }, { "cell_type": "markdown", "metadata": { "id": "y6ZZonru_KCb" }, "source": [ "# QDA" ] }, { "cell_type": "code", "execution_count": 356, "metadata": { "id": "iyowa65k_ow1" }, "outputs": [], "source": [ "from sklearn.discriminant_analysis import QuadraticDiscriminantAnalysis\n", "modelqda = QuadraticDiscriminantAnalysis()" ] }, { "cell_type": "code", "execution_count": 357, "metadata": { "colab": { "base_uri": "https://localhost:8080/" }, "id": "DvIVCK1q_qao", "outputId": "cbf02b05-164e-45f8-a986-f4de241b769c" }, "outputs": [ { "data": { "text/plain": [ "QuadraticDiscriminantAnalysis()" ] }, "execution_count": 357, "metadata": {}, "output_type": "execute_result" } ], "source": [ "modelqda.fit(X_train, Y_train)" ] }, { "cell_type": "code", "execution_count": 358, "metadata": {}, "outputs": [ { "data": { "text/plain": [ "0.7821229050279329" ] }, "execution_count": 358, "metadata": {}, "output_type": "execute_result" } ], "source": [ "modelqda.score(X_test,Y_test)" ] }, { "cell_type": "code", "execution_count": 359, "metadata": { "id": "zSKQfhle_uNR" }, "outputs": [], "source": [ "Y_predqda = modelqda.predict(X_test)" ] }, { "cell_type": "code", "execution_count": 360, "metadata": { "colab": { "base_uri": "https://localhost:8080/" }, "id": "RNB64cfJ_0Ky", "outputId": "716c8245-8a41-46b0-92b1-1bcabaf0fa04" }, "outputs": [ { "name": "stdout", "output_type": "stream", "text": [ "[0 0 0 1 0 0 0 0 0 0 0 1 0 0 0 1 0 0 0 0 1 0 0 0 0 0 0 0 0 1 1 0 0 0 1 1 1\n", " 0 1 0 0 0 0 0 0 1 1 0 0 0 0 0 0 0 0 0 0 0 0 1 1 0 0 0 0 1 0 0 0 1 0 0 0 0\n", " 0 0 0 1 0 1 0 1 0 0 1 0 1 0 0 1 1 0 0 1 0 0 0 1 0 1 0 0 1 1 1 0 0 0 1 0 0\n", " 0 0 1 0 0 1 0 0 0 0 0 0 0 0 0 0 0 0 1 0 0 0 0 1 0 1 0 0 0 1 0 0 0 0 1 0 1\n", " 1 1 0 0 1 0 0 0 0 1 0 0 0 1 0 0 0 1 1 0 0 0 1 0 0 0 0 0 0 1 1]\n" ] } ], "source": [ "print(Y_predqda)" ] }, { "cell_type": "code", "execution_count": 361, "metadata": {}, "outputs": [], "source": [ "from sklearn.metrics import confusion_matrix\n", "cm=confusion_matrix(Y_test,Y_predqda)" ] }, { "cell_type": "code", "execution_count": 362, "metadata": {}, "outputs": [ { "data": { "image/png": "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", "text/plain": [ "<Figure size 432x288 with 2 Axes>" ] }, "metadata": { "needs_background": "light" }, "output_type": "display_data" } ], "source": [ "##Confusion matrix\n", "import seaborn as sns\n", "\n", "ax = sns.heatmap(cm, annot=True, cmap='Blues')\n", "\n", "ax.set_title('Seaborn Confusion Matrix with labels\\n\\n');\n", "ax.set_xlabel('\\nPredicted Values')\n", "ax.set_ylabel('Actual Values ');\n", "\n", "## Ticket labels - List must be in alphabetical order\n", "ax.xaxis.set_ticklabels(['False','True'])\n", "ax.yaxis.set_ticklabels(['False','True'])\n", "\n", "## Display the visualization of the Confusion Matrix.\n", "plt.show()" ] }, { "cell_type": "code", "execution_count": 363, "metadata": {}, "outputs": [ { "name": "stdout", "output_type": "stream", "text": [ "0.7014925373134328\n" ] } ], "source": [ "##F1 score\n", "Precision = (metrics.precision_score(Y_test, Y_pred))\n", "Recall = (metrics.recall_score(Y_test, Y_pred))\n", "F1 = 2 * (Precision * Recall) / (Precision + Recall)\n", "print (F1)" ] }, { "cell_type": "markdown", "metadata": { "id": "LRV5OKlJxJRk" }, "source": [ "# Hypothesis" ] }, { "cell_type": "code", "execution_count": 364, "metadata": { "colab": { "base_uri": "https://localhost:8080/", "height": 281 }, "id": "TpmF3k9DzGNp", "outputId": "1e8f95d0-f6ef-48ae-e27b-b344369e1adb" }, "outputs": [ { "data": { "image/png": "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", "text/plain": [ "<Figure size 432x288 with 1 Axes>" ] }, "metadata": { "needs_background": "light" }, "output_type": "display_data" } ], "source": [ "x = [\"First-Class\", \"Third-Class\"]\n", "y = [np.mean(df[\"survived\"][df[\"class\"]==1]), np.mean(df[\"survived\"][df[\"class\"]==3])]\n", "plt.bar(x, y)\n", "plt.ylabel(\"survival Rate\")\n", "plt.title(\"survival Rate for people in the first and third classes\")\n", "plt.show()" ] }, { "cell_type": "code", "execution_count": 365, "metadata": { "id": "3am2R_mu0bGO" }, "outputs": [], "source": [ "First_Class_Sample = np.array([np.mean(df[df[\"class\"]==1].sample(20)[\"survived\"].values) for i in range(100)])\n", "third_Class_Sample = np.array([np.mean(df[df[\"class\"]==3].sample(20)[\"survived\"].values) for i in range(100)])" ] }, { "cell_type": "code", "execution_count": 366, "metadata": { "colab": { "base_uri": "https://localhost:8080/", "height": 456 }, "id": "JPCW83Qm4x3F", "outputId": "d70dd395-1306-435f-85cb-8099bd06818d" }, "outputs": [ { "name": "stderr", "output_type": "stream", "text": [ "/Users/swathi/opt/anaconda3/lib/python3.9/site-packages/seaborn/distributions.py:2619: FutureWarning: `distplot` is a deprecated function and will be removed in a future version. Please adapt your code to use either `displot` (a figure-level function with similar flexibility) or `histplot` (an axes-level function for histograms).\n", " warnings.warn(msg, FutureWarning)\n", "/Users/swathi/opt/anaconda3/lib/python3.9/site-packages/seaborn/distributions.py:2619: FutureWarning: `distplot` is a deprecated function and will be removed in a future version. Please adapt your code to use either `displot` (a figure-level function with similar flexibility) or `histplot` (an axes-level function for histograms).\n", " warnings.warn(msg, FutureWarning)\n" ] }, { "data": { "image/png": "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", "text/plain": [ "<Figure size 720x360 with 2 Axes>" ] }, "metadata": { "needs_background": "light" }, "output_type": "display_data" } ], "source": [ "# make plots to check if the distributions are normal.\n", "\n", "plt.subplots(1, 2, figsize = (10, 5))\n", "plt.subplot(1,2, 1)\n", "sns.distplot(First_Class_Sample)\n", "\n", "plt.title(f\"First-Class Sample Distribution \\n Mean: {np.mean(First_Class_Sample)}\")\n", "plt.xlabel(\"Survival Rate\")\n", "plt.ylabel(\"Frequency\")\n", "\n", "\n", "\n", "\n", "plt.subplot(1, 2, 2)\n", "sns.distplot(third_Class_Sample)\n", "plt.title(f\"Third-Class Sample Distribution \\n Mean: {np.mean(third_Class_Sample)}\")\n", "plt.xlabel(\"Survival Rate\")\n", "plt.ylabel(\"Frequency\")\n", "\n", "\n", "plt.show()" ] }, { "cell_type": "code", "execution_count": 367, "metadata": { "id": "qh1Np0jizHTK" }, "outputs": [], "source": [ "# calculate the z-score and the p-value\n", "\n", "effect = np.mean(First_Class_Sample) - np.mean(third_Class_Sample)\n", "sigma_first = np.std(First_Class_Sample)\n", "sigma_third = np.std(third_Class_Sample)\n", "sigma_difference = np.sqrt((sigma_first**2)/len(First_Class_Sample) + (sigma_third**2)/len(third_Class_Sample))\n", "z_score = effect / sigma_difference" ] }, { "cell_type": "code", "execution_count": 368, "metadata": { "colab": { "base_uri": "https://localhost:8080/" }, "id": "StiYiQTvBwKN", "outputId": "6cfef757-48b1-45af-e127-955cfca0af08" }, "outputs": [ { "name": "stdout", "output_type": "stream", "text": [ "26.849672631005983\n" ] } ], "source": [ "print(z_score)" ] }, { "cell_type": "code", "execution_count": 369, "metadata": { "colab": { "base_uri": "https://localhost:8080/" }, "id": "1WSr5Z8jzHWD", "outputId": "7a3feddd-c8a7-43cc-f225-797604cf3e4e" }, "outputs": [ { "data": { "text/plain": [ "8.509151584385311e-159" ] }, "execution_count": 369, "metadata": {}, "output_type": "execute_result" } ], "source": [ "# P-value \n", "st.norm.sf(abs(z_score))*2" ] }, { "cell_type": "code", "execution_count": 370, "metadata": { "colab": { "base_uri": "https://localhost:8080/", "height": 265 }, "id": "qFAVMZHix6K_", "outputId": "802d6af4-3e08-4417-f5b4-ff18b7c099e7" }, "outputs": [ { "data": { "image/png": "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", "text/plain": [ "<Figure size 432x288 with 1 Axes>" ] }, "metadata": { "needs_background": "light" }, "output_type": "display_data" } ], "source": [ "##Normal distrubation plot\n", "# Plot between -10 and 10 with .001 steps.\n", "x_axis = np.arange(-20, 20, 0.01)\n", " \n", "# Calculating mean and standard deviation\n", "mean = statistics.mean(x_axis)\n", "sd = statistics.stdev(x_axis)\n", " \n", "plt.plot(x_axis, norm.pdf(x_axis, mean, sd))\n", "plt.show()" ] }, { "cell_type": "code", "execution_count": 371, "metadata": { "colab": { "base_uri": "https://localhost:8080/", "height": 279 }, "id": "0PaGMXlXrBcx", "outputId": "70b8c2e5-c49e-40b0-e4b9-a7e10ecf7e99" }, "outputs": [ { "name": "stderr", "output_type": "stream", "text": [ "/Users/swathi/opt/anaconda3/lib/python3.9/site-packages/statsmodels/graphics/gofplots.py:993: UserWarning: marker is redundantly defined by the 'marker' keyword argument and the fmt string \"bo\" (-> marker='o'). The keyword argument will take precedence.\n", " ax.plot(x, y, fmt, **plot_style)\n" ] }, { "data": { "image/png": "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", "text/plain": [ "<Figure size 432x288 with 1 Axes>" ] }, "metadata": { "needs_background": "light" }, "output_type": "display_data" } ], "source": [ "##QQ plot\n", "data_points = np.random.normal(0, 1, 100) \n", " \n", "sm.qqplot(data_points, line ='45')\n", "py.show()" ] }, { "cell_type": "code", "execution_count": null, "metadata": { "id": "bWjRd0GV3n4V" }, "outputs": [], "source": [] } ], "metadata": { "colab": { "collapsed_sections": [], "name": "Titanic.ipynb", "provenance": [] }, "kernelspec": { "display_name": "Python 3", "name": "python3" }, "language_info": { "codemirror_mode": { "name": "ipython", "version": 3 }, "file_extension": ".py", "mimetype": "text/x-python", "name": "python", "nbconvert_exporter": "python", "pygments_lexer": "ipython3", "version": "3.9.7" } }, "nbformat": 4, "nbformat_minor": 0 }
